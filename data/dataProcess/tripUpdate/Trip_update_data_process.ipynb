{
 "cells": [
  {
   "cell_type": "code",
   "execution_count": 45,
   "metadata": {},
   "outputs": [],
   "source": [
    "import json\n",
    "import pandas as pd \n",
    "import numpy as np\n",
    "from datetime import date\n",
    "import pytz"
   ]
  },
  {
   "cell_type": "code",
   "execution_count": 46,
   "metadata": {},
   "outputs": [],
   "source": [
    "pd.set_option('display.max_columns', 500)\n",
    "pd.set_option('display.max_rows', 500)"
   ]
  },
  {
   "cell_type": "code",
   "execution_count": 47,
   "metadata": {},
   "outputs": [],
   "source": [
    "with open(\"trip_update.json\", \"r\") as read_file:\n",
    "    data = json.load(read_file)"
   ]
  },
  {
   "cell_type": "code",
   "execution_count": 48,
   "metadata": {},
   "outputs": [],
   "source": [
    "entities = data['entity']\n",
    "entity_id = []\n",
    "entity_timestamp = []\n",
    "entity_trip_id = []\n",
    "entity_route_id = []\n",
    "entity_stop_id = []\n",
    "entity_scheduleRelationship = []\n",
    "\n",
    "entity_arrival_time = []\n",
    "entity_arrival_delay = []\n",
    "\n",
    "entity_departure_time = []\n",
    "entity_departure_delay = []\n",
    "\n",
    "entity_stop_time_update_scheduleRelationship = []\n"
   ]
  },
  {
   "cell_type": "code",
   "execution_count": 49,
   "metadata": {
    "code_folding": [
     0
    ]
   },
   "outputs": [],
   "source": [
    "def get_data():\n",
    "    for entity in entities:\n",
    "        entityTimestamp = entity['tripUpdate']['timestamp']\n",
    "        entityTripId = entity['tripUpdate']['trip']['tripId']\n",
    "        entityRouteId = entity['tripUpdate']['trip']['routeId']\n",
    "\n",
    "        # if the entity has the 'scheduleRelationship' key\n",
    "        if 'scheduleRelationship' in entity['tripUpdate']['trip']:\n",
    "            entityScheduleRelationship = entity['tripUpdate']['trip']['scheduleRelationship']\n",
    "        else:\n",
    "            entityScheduleRelationship = ''\n",
    "\n",
    "        # if the entity has the 'stopTimeUpdate' key\n",
    "        if 'stopTimeUpdate' in entity['tripUpdate']:\n",
    "            entity_stop_time_update = entity['tripUpdate']['stopTimeUpdate']\n",
    "\n",
    "            for stop_time_update in entity_stop_time_update:\n",
    "                entity_timestamp.append(entityTimestamp)\n",
    "                entity_trip_id.append(entityTripId)\n",
    "                entity_scheduleRelationship.append(entityScheduleRelationship)\n",
    "                entity_route_id.append(entityRouteId)\n",
    "                entity_stop_id.append(stop_time_update['stopId'])\n",
    "\n",
    "                # if the entity has the 'arrival' key\n",
    "                if 'arrival' in stop_time_update:\n",
    "                    if ('time' in stop_time_update['arrival']) & ('delay' not in stop_time_update['arrival']):\n",
    "                        entity_arrival_time.append(stop_time_update['arrival']['time'])\n",
    "                        entity_arrival_delay.append(0)\n",
    "\n",
    "                    elif ('delay' in stop_time_update['arrival']) & ('time' not in stop_time_update['arrival']):\n",
    "                        entity_arrival_delay.append(stop_time_update['arrival']['delay'])\n",
    "                        entity_arrival_time.append(None)\n",
    "                    else:\n",
    "                        entity_arrival_time.append(stop_time_update['arrival']['time'])\n",
    "                        entity_arrival_delay.append(stop_time_update['arrival']['delay'])\n",
    "                else:\n",
    "                    entity_arrival_delay.append(0)\n",
    "                    entity_arrival_time.append(None)\n",
    "\n",
    "                # if the entity has the 'departure' key\n",
    "                if 'departure' in stop_time_update:\n",
    "                    if ('time' in stop_time_update['departure']) & ('delay' not in stop_time_update['departure']):\n",
    "                        entity_departure_time.append(stop_time_update['departure']['time'])\n",
    "                        entity_departure_delay.append(0)\n",
    "\n",
    "                    elif ('delay' in stop_time_update['departure']) & ('time' not in stop_time_update['departure']):\n",
    "                        entity_departure_delay.append(stop_time_update['departure']['delay'])\n",
    "                        entity_departure_time.append(None)\n",
    "\n",
    "                    else:\n",
    "                        entity_departure_time.append(stop_time_update['departure']['time'])\n",
    "                        entity_departure_delay.append(stop_time_update['departure']['delay'])\n",
    "\n",
    "                else:\n",
    "                    entity_departure_delay.append(0)\n",
    "                    entity_departure_time.append(None)\n",
    "\n",
    "                # if the entity has the 'scheduleRelationship' key\n",
    "                if 'scheduleRelationship' in stop_time_update:\n",
    "                    entity_stop_time_update_scheduleRelationship.append(stop_time_update['scheduleRelationship'])\n",
    "                else:\n",
    "                    entity_stop_time_update_scheduleRelationship.append('')\n",
    "        else:\n",
    "            entity_arrival_delay.append(0)\n",
    "            entity_arrival_time.append(None)\n",
    "            entity_departure_delay.append(0)\n",
    "            entity_departure_time.append(None)\n",
    "            entity_stop_id.append('')\n",
    "            entity_stop_time_update_scheduleRelationship.append('')\n",
    "            entity_timestamp.append(entityTimestamp)\n",
    "            entity_trip_id.append(entityTripId)\n",
    "            entity_scheduleRelationship.append(entityScheduleRelationship)\n",
    "            entity_route_id.append(entityRouteId)"
   ]
  },
  {
   "cell_type": "code",
   "execution_count": 50,
   "metadata": {},
   "outputs": [],
   "source": [
    "get_data()"
   ]
  },
  {
   "cell_type": "code",
   "execution_count": 51,
   "metadata": {},
   "outputs": [],
   "source": [
    "df = pd.DataFrame(columns = ['timestamp', 'trip_id','route_id','schedule_relationship',\n",
    "                            'stop_id','departure_delay','departure_time','arrival_delay',\n",
    "                            'arrival_time','update_scheduleRelationship'])\n",
    "\n",
    "df['timestamp'] = pd.Series(entity_timestamp)\n",
    "df['trip_id'] = pd.Series(entity_trip_id)\n",
    "df['route_id'] = pd.Series(entity_route_id)\n",
    "df['schedule_relationship'] = pd.Series(entity_scheduleRelationship)\n",
    "df['stop_id'] = pd.Series(entity_stop_id)\n",
    "df['departure_delay'] = pd.Series(entity_departure_delay)\n",
    "df['departure_time'] = pd.Series(entity_departure_time)\n",
    "df['arrival_delay'] = pd.Series(entity_arrival_delay)\n",
    "df['arrival_time'] = pd.Series(entity_arrival_time)\n",
    "df['update_scheduleRelationship'] = pd.Series(entity_stop_time_update_scheduleRelationship)"
   ]
  },
  {
   "cell_type": "code",
   "execution_count": 52,
   "metadata": {
    "code_folding": [
     1
    ]
   },
   "outputs": [],
   "source": [
    "# Drop the rows of Nsw Trains\n",
    "df = df[~(df[\"route_id\"].isin(['BMT_1', 'BMT_2', 'CCN_1a', 'CCN_1b', 'CCN_1c',\n",
    "                               'CCN_2a', 'CCN_2b', 'CTY_NC1', 'CTY_NC1a',\n",
    "                               'CTY_NC2', 'CTY_NW1a', 'CTY_NW1b', 'CTY_NW1c',\n",
    "                               'CTY_NW1d', 'CTY_NW2a', 'CTY_NW2b', 'CTY_S1a',\n",
    "                               'CTY_S1b', 'CTY_S1c', 'CTY_S1d', 'CTY_S1e',\n",
    "                               'CTY_S1f', 'CTY_S1g', 'CTY_S1h', 'CTY_S1i',\n",
    "                               'CTY_S2a', 'CTY_S2b', 'CTY_S2c', 'CTY_S2d',\n",
    "                               'CTY_S2e', 'CTY_S2f', 'CTY_S2g', 'CTY_S2h',\n",
    "                               'CTY_S2i', 'CTY_W1a', 'CTY_W1b', 'CTY_W2a',\n",
    "                               'CTY_W2b', 'HUN_1a', 'HUN_1b', 'HUN_2a',\n",
    "                               'HUN_2b', 'SCO_1a', 'SCO_1b', 'SCO_2a',\n",
    "                               'SCO_2b', 'SHL_1a', 'SHL_1b', 'SHL_1c',\n",
    "                               'SHL_1d', 'SHL_1e', 'SHL_2a', 'SHL_2b', 'SHL_2c',\n",
    "                               'SHL_2d', 'SHL_2e', 'RTTA_DEF', 'RTTA_REV']))]"
   ]
  },
  {
   "cell_type": "code",
   "execution_count": 53,
   "metadata": {},
   "outputs": [],
   "source": [
    "df['timestamp'] = pd.to_datetime(df['timestamp'], unit='s')\n",
    "df.timestamp = df.timestamp + pd.Timedelta('10:00:00')\n",
    "df.timestamp = df.timestamp.dt.strftime('%Y%m%d %H:%M:%S')\n",
    "\n",
    "\n",
    "df.departure_time = pd.to_datetime(df['departure_time'], unit='s')\n",
    "df.departure_time = df.departure_time + pd.Timedelta('10:00:00')\n",
    "df.departure_time = df.departure_time.dt.strftime('%Y%m%d %H:%M:%S')\n",
    "\n",
    "df.arrival_time = pd.to_datetime(df['arrival_time'], unit='s')\n",
    "df.arrival_time = df.arrival_time + pd.Timedelta('10:00:00')\n",
    "df.arrival_time = df.arrival_time.dt.strftime('%Y%m%d %H:%M:%S')\n"
   ]
  },
  {
   "cell_type": "code",
   "execution_count": 54,
   "metadata": {},
   "outputs": [],
   "source": [
    "# df['arrival_time'] = df['arrival_time'].where(df['arrival_time'].notnull(), None)\n",
    "# df.replace({pd.NaT: None},inplace=True)\n",
    "df = df.replace({'NaT': None})"
   ]
  },
  {
   "cell_type": "code",
   "execution_count": 55,
   "metadata": {},
   "outputs": [
    {
     "data": {
      "text/plain": [
       "array([nan, '20200414 09:10:31', '20200414 09:14:11', '20200414 09:16:00',\n",
       "       '20200414 09:19:09', '20200414 09:21:20', '20200414 09:23:40',\n",
       "       '20200414 09:27:21', '20200414 09:31:00', '20200414 09:35:10',\n",
       "       '20200414 09:36:41', '20200414 09:39:11', '20200414 09:40:50',\n",
       "       '20200414 09:42:20', '20200414 09:43:50', '20200414 09:46:11',\n",
       "       '20200414 09:48:30', '20200414 09:50:30', '20200414 09:52:49',\n",
       "       '20200414 13:37:36', '20200414 13:40:54', '20200414 13:44:00',\n",
       "       '20200414 13:46:07', '20200414 13:49:04', '20200414 13:50:54',\n",
       "       '20200414 13:54:17', '20200414 13:58:30', '20200414 14:01:36',\n",
       "       '20200414 14:03:54', '20200414 14:06:24', '20200414 14:08:54',\n",
       "       '20200414 14:11:24', '20200414 14:13:54', '20200414 14:16:06',\n",
       "       '20200414 14:18:24', '20200414 14:21:12', '20200414 14:23:24',\n",
       "       '20200414 14:25:54', '20200414 14:28:24'], dtype=object)"
      ]
     },
     "execution_count": 55,
     "metadata": {},
     "output_type": "execute_result"
    }
   ],
   "source": [
    "df.departure_time.unique()"
   ]
  },
  {
   "cell_type": "code",
   "execution_count": 56,
   "metadata": {},
   "outputs": [],
   "source": [
    "df['date'] = pd.to_datetime(df['timestamp']).dt.date\n",
    "df['time'] = pd.to_datetime(df['timestamp']).dt.time\n",
    "df.drop('timestamp',axis=1,inplace=True)"
   ]
  },
  {
   "cell_type": "code",
   "execution_count": 57,
   "metadata": {},
   "outputs": [],
   "source": [
    "# rearrage the order of columns\n",
    "df = df[['date','time','trip_id','route_id','schedule_relationship','stop_id','arrival_time',\n",
    "        'arrival_delay','departure_time','departure_delay','update_scheduleRelationship']]\n",
    "df.reset_index(drop=True,inplace=True)"
   ]
  },
  {
   "cell_type": "code",
   "execution_count": 59,
   "metadata": {},
   "outputs": [
    {
     "data": {
      "text/html": [
       "<div>\n",
       "<style scoped>\n",
       "    .dataframe tbody tr th:only-of-type {\n",
       "        vertical-align: middle;\n",
       "    }\n",
       "\n",
       "    .dataframe tbody tr th {\n",
       "        vertical-align: top;\n",
       "    }\n",
       "\n",
       "    .dataframe thead th {\n",
       "        text-align: right;\n",
       "    }\n",
       "</style>\n",
       "<table border=\"1\" class=\"dataframe\">\n",
       "  <thead>\n",
       "    <tr style=\"text-align: right;\">\n",
       "      <th></th>\n",
       "      <th>date</th>\n",
       "      <th>time</th>\n",
       "      <th>trip_id</th>\n",
       "      <th>route_id</th>\n",
       "      <th>schedule_relationship</th>\n",
       "      <th>stop_id</th>\n",
       "      <th>arrival_time</th>\n",
       "      <th>arrival_delay</th>\n",
       "      <th>departure_time</th>\n",
       "      <th>departure_delay</th>\n",
       "      <th>update_scheduleRelationship</th>\n",
       "    </tr>\n",
       "  </thead>\n",
       "  <tbody>\n",
       "    <tr>\n",
       "      <th>0</th>\n",
       "      <td>2020-04-14</td>\n",
       "      <td>01:34:00</td>\n",
       "      <td>20XZ.1649.103.198.B.8.61078906</td>\n",
       "      <td>BNK_1d</td>\n",
       "      <td>SCHEDULED</td>\n",
       "      <td></td>\n",
       "      <td>NaN</td>\n",
       "      <td>0</td>\n",
       "      <td>NaN</td>\n",
       "      <td>0</td>\n",
       "      <td></td>\n",
       "    </tr>\n",
       "    <tr>\n",
       "      <th>1</th>\n",
       "      <td>2020-04-14</td>\n",
       "      <td>01:45:31</td>\n",
       "      <td>93-S.1649.103.4.A.8.61080230</td>\n",
       "      <td>BNK_2b</td>\n",
       "      <td>SCHEDULED</td>\n",
       "      <td></td>\n",
       "      <td>NaN</td>\n",
       "      <td>0</td>\n",
       "      <td>NaN</td>\n",
       "      <td>0</td>\n",
       "      <td></td>\n",
       "    </tr>\n",
       "    <tr>\n",
       "      <th>2</th>\n",
       "      <td>2020-04-14</td>\n",
       "      <td>00:14:46</td>\n",
       "      <td>120W.1649.103.4.A.8.61080516</td>\n",
       "      <td>NTH_1a</td>\n",
       "      <td>SCHEDULED</td>\n",
       "      <td></td>\n",
       "      <td>NaN</td>\n",
       "      <td>0</td>\n",
       "      <td>NaN</td>\n",
       "      <td>0</td>\n",
       "      <td></td>\n",
       "    </tr>\n",
       "    <tr>\n",
       "      <th>3</th>\n",
       "      <td>2020-04-14</td>\n",
       "      <td>01:24:39</td>\n",
       "      <td>127W.1649.103.4.A.8.61080557</td>\n",
       "      <td>NSN_1a</td>\n",
       "      <td>SCHEDULED</td>\n",
       "      <td>2077302</td>\n",
       "      <td>NaN</td>\n",
       "      <td>0</td>\n",
       "      <td>NaN</td>\n",
       "      <td>0</td>\n",
       "      <td>SCHEDULED</td>\n",
       "    </tr>\n",
       "    <tr>\n",
       "      <th>4</th>\n",
       "      <td>2020-04-14</td>\n",
       "      <td>00:53:48</td>\n",
       "      <td>10XZ.1649.103.4.B.8.61081877</td>\n",
       "      <td>BNK_2a</td>\n",
       "      <td>SCHEDULED</td>\n",
       "      <td></td>\n",
       "      <td>NaN</td>\n",
       "      <td>0</td>\n",
       "      <td>NaN</td>\n",
       "      <td>0</td>\n",
       "      <td></td>\n",
       "    </tr>\n",
       "  </tbody>\n",
       "</table>\n",
       "</div>"
      ],
      "text/plain": [
       "         date      time                         trip_id route_id  \\\n",
       "0  2020-04-14  01:34:00  20XZ.1649.103.198.B.8.61078906   BNK_1d   \n",
       "1  2020-04-14  01:45:31    93-S.1649.103.4.A.8.61080230   BNK_2b   \n",
       "2  2020-04-14  00:14:46    120W.1649.103.4.A.8.61080516   NTH_1a   \n",
       "3  2020-04-14  01:24:39    127W.1649.103.4.A.8.61080557   NSN_1a   \n",
       "4  2020-04-14  00:53:48    10XZ.1649.103.4.B.8.61081877   BNK_2a   \n",
       "\n",
       "  schedule_relationship  stop_id arrival_time  arrival_delay departure_time  \\\n",
       "0             SCHEDULED                   NaN              0            NaN   \n",
       "1             SCHEDULED                   NaN              0            NaN   \n",
       "2             SCHEDULED                   NaN              0            NaN   \n",
       "3             SCHEDULED  2077302          NaN              0            NaN   \n",
       "4             SCHEDULED                   NaN              0            NaN   \n",
       "\n",
       "   departure_delay update_scheduleRelationship  \n",
       "0                0                              \n",
       "1                0                              \n",
       "2                0                              \n",
       "3                0                   SCHEDULED  \n",
       "4                0                              "
      ]
     },
     "execution_count": 59,
     "metadata": {},
     "output_type": "execute_result"
    }
   ],
   "source": [
    "df.head()"
   ]
  },
  {
   "cell_type": "code",
   "execution_count": 62,
   "metadata": {},
   "outputs": [],
   "source": [
    "# Get the timetable current date\n",
    "file_date = date.today().strftime(\"%Y%m%d\")"
   ]
  },
  {
   "cell_type": "code",
   "execution_count": 44,
   "metadata": {},
   "outputs": [],
   "source": [
    "df.to_csv('trip_update_' + file_date + '.csv',index=False)"
   ]
  },
  {
   "cell_type": "code",
   "execution_count": null,
   "metadata": {},
   "outputs": [],
   "source": []
  },
  {
   "cell_type": "code",
   "execution_count": null,
   "metadata": {},
   "outputs": [],
   "source": []
  }
 ],
 "metadata": {
  "kernelspec": {
   "display_name": "Python 3",
   "language": "python",
   "name": "python3"
  },
  "language_info": {
   "codemirror_mode": {
    "name": "ipython",
    "version": 3
   },
   "file_extension": ".py",
   "mimetype": "text/x-python",
   "name": "python",
   "nbconvert_exporter": "python",
   "pygments_lexer": "ipython3",
   "version": "3.8.2"
  },
  "toc": {
   "base_numbering": 1,
   "nav_menu": {},
   "number_sections": true,
   "sideBar": true,
   "skip_h1_title": false,
   "title_cell": "Table of Contents",
   "title_sidebar": "Contents",
   "toc_cell": false,
   "toc_position": {},
   "toc_section_display": true,
   "toc_window_display": false
  }
 },
 "nbformat": 4,
 "nbformat_minor": 2
}
