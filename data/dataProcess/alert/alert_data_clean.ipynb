{
 "cells": [
  {
   "cell_type": "code",
   "execution_count": 1,
   "metadata": {},
   "outputs": [],
   "source": [
    "import json\n",
    "import os\n",
    "import pandas as pd \n",
    "import numpy as np\n",
    "from datetime import date, datetime\n",
    "import pytz"
   ]
  },
  {
   "cell_type": "code",
   "execution_count": 2,
   "metadata": {},
   "outputs": [],
   "source": [
    "pd.set_option('display.max_columns', None)"
   ]
  },
  {
   "cell_type": "code",
   "execution_count": 3,
   "metadata": {},
   "outputs": [
    {
     "data": {
      "text/plain": [
       "'20200417'"
      ]
     },
     "execution_count": 3,
     "metadata": {},
     "output_type": "execute_result"
    }
   ],
   "source": [
    "file_date = date.today().strftime(\"%Y%m%d\")\n",
    "file_date"
   ]
  },
  {
   "cell_type": "code",
   "execution_count": 4,
   "metadata": {},
   "outputs": [],
   "source": [
    "pd.set_option('display.max_rows', 500)"
   ]
  },
  {
   "cell_type": "code",
   "execution_count": 5,
   "metadata": {},
   "outputs": [],
   "source": [
    "with open(\"alert.json\", \"r\") as read_file:\n",
    "    data = json.load(read_file)"
   ]
  },
  {
   "cell_type": "code",
   "execution_count": 6,
   "metadata": {},
   "outputs": [],
   "source": [
    "data['header']['timestamp']\n",
    "time = pd.to_datetime(data['header']['timestamp'], unit='s')\n",
    "time = time + pd.Timedelta('10:00:00')\n",
    "datetime = time.strftime('%Y%m%d %H:%M:%S')"
   ]
  },
  {
   "cell_type": "code",
   "execution_count": 7,
   "metadata": {},
   "outputs": [],
   "source": [
    "entities = data['entity']\n",
    "line_service_alerts = []\n",
    "station_facilities_alerts = []\n",
    "trip_based_alerts = []"
   ]
  },
  {
   "cell_type": "code",
   "execution_count": 8,
   "metadata": {},
   "outputs": [
    {
     "data": {
      "text/plain": [
       "1"
      ]
     },
     "execution_count": 8,
     "metadata": {},
     "output_type": "execute_result"
    }
   ],
   "source": [
    "for line_service_alert in entities:\n",
    "    alerts = line_service_alert['alert']['informedEntity']\n",
    "    keep_running = True\n",
    "    for alert in alerts:\n",
    "        if 'routeId' in alert and keep_running == True:\n",
    "            line_service_alerts.append(line_service_alert)\n",
    "            keep_running = False \n",
    "        else:\n",
    "            break  \n",
    "len(line_service_alerts)"
   ]
  },
  {
   "cell_type": "code",
   "execution_count": 9,
   "metadata": {},
   "outputs": [
    {
     "data": {
      "text/plain": [
       "5"
      ]
     },
     "execution_count": 9,
     "metadata": {},
     "output_type": "execute_result"
    }
   ],
   "source": [
    "for station_facilities_alert in entities:\n",
    "    alerts = station_facilities_alert['alert']['informedEntity']\n",
    "    keep_running = True\n",
    "    for alert in alerts:\n",
    "        if 'stopId' in alert and keep_running == True:\n",
    "            station_facilities_alerts.append(station_facilities_alert)\n",
    "            keep_running = False\n",
    "            \n",
    "len(station_facilities_alerts)"
   ]
  },
  {
   "cell_type": "code",
   "execution_count": 10,
   "metadata": {},
   "outputs": [
    {
     "data": {
      "text/plain": [
       "2"
      ]
     },
     "execution_count": 10,
     "metadata": {},
     "output_type": "execute_result"
    }
   ],
   "source": [
    "for trip_based_alert in entities:\n",
    "    alerts = trip_based_alert['alert']['informedEntity']\n",
    "    keep_running = True\n",
    "    for alert in alerts:\n",
    "        if 'trip' in alert and keep_running == True:\n",
    "            trip_based_alerts.append(trip_based_alert)\n",
    "            keep_running = False\n",
    "            \n",
    "len(trip_based_alerts)"
   ]
  },
  {
   "cell_type": "code",
   "execution_count": 11,
   "metadata": {},
   "outputs": [
    {
     "data": {
      "text/plain": [
       "{'id': '3',\n",
       " 'alert': {'informedEntity': [{'agencyId': 'SydneyTrains',\n",
       "    'trip': {'tripId': '32-H.1648.102.96.K.8.61930299'}},\n",
       "   {'agencyId': 'SydneyTrains',\n",
       "    'trip': {'tripId': '13-F.1648.102.64.B.8.62240900'}},\n",
       "   {'agencyId': 'SydneyTrains',\n",
       "    'trip': {'tripId': '3--E.1648.102.64.B.8.61930303'}},\n",
       "   {'agencyId': 'SydneyTrains',\n",
       "    'trip': {'tripId': '8--H.1648.102.112.B.8.61257377'}}],\n",
       "  'url': {'translation': [{'text': 'https://transportnsw.info/alerts#/train',\n",
       "     'language': 'en'}]},\n",
       "  'headerText': {'translation': [{'text': 'Delayed', 'language': 'en'}]},\n",
       "  'descriptionText': {'translation': [{'text': ' due to an operational issue at Central earlier',\n",
       "     'language': 'en'}]}}}"
      ]
     },
     "execution_count": 11,
     "metadata": {},
     "output_type": "execute_result"
    }
   ],
   "source": [
    "trip_based_alerts[0]"
   ]
  },
  {
   "cell_type": "code",
   "execution_count": 12,
   "metadata": {},
   "outputs": [
    {
     "data": {
      "text/plain": [
       "{'id': '9',\n",
       " 'alert': {'informedEntity': [{'agencyId': 'SydneyTrains',\n",
       "    'stopId': '223010'}],\n",
       "  'cause': 'OTHER_CAUSE',\n",
       "  'effect': 'UNKNOWN_EFFECT',\n",
       "  'url': {'translation': [{'text': 'https://transportnsw.info/alerts#/train',\n",
       "     'language': 'en'}]},\n",
       "  'headerText': {'translation': [{'text': 'Lift Availability - Woolooware',\n",
       "     'language': 'en'}]},\n",
       "  'descriptionText': {'translation': [{'text': 'The lift between the concourse and Denham Avenue is temporarily out of service. If you require assistance, please ask staff or phone 9522 1265.',\n",
       "     'language': 'en'}]}}}"
      ]
     },
     "execution_count": 12,
     "metadata": {},
     "output_type": "execute_result"
    }
   ],
   "source": [
    "station_facilities_alerts[0]"
   ]
  },
  {
   "cell_type": "code",
   "execution_count": 13,
   "metadata": {},
   "outputs": [
    {
     "data": {
      "text/plain": [
       "{'id': '1',\n",
       " 'alert': {'informedEntity': [{'agencyId': 'NSWTrains', 'routeId': 'BMT_2'},\n",
       "   {'agencyId': 'NSWTrains', 'routeId': 'BMT_1'}],\n",
       "  'url': {'translation': [{'text': 'https://transportnsw.info/alerts#/train',\n",
       "     'language': 'en'}]},\n",
       "  'headerText': {'translation': [{'text': 'Trackwork - Blue Mountains Line',\n",
       "     'language': 'en'}]},\n",
       "  'descriptionText': {'translation': [{'text': 'Until further notice:\\n- Due to infrastructure damage caused by bushfires, buses continue to replace trains between Lithgow and Mount Victoria.\\n- Trains continue to run between Bathurst, Lithgow, and and Central, to a changed timetable.\\n\\nPlease use transport apps or visit transportnsw.info for details.',\n",
       "     'language': 'en'}]}}}"
      ]
     },
     "execution_count": 13,
     "metadata": {},
     "output_type": "execute_result"
    }
   ],
   "source": [
    "line_service_alerts[0]"
   ]
  },
  {
   "cell_type": "code",
   "execution_count": 14,
   "metadata": {
    "code_folding": []
   },
   "outputs": [],
   "source": [
    "station_facilities_alerts_agencyId = []\n",
    "station_facilities_alerts_stopId = []\n",
    "station_facilities_alerts_cause = []\n",
    "station_facilities_alerts_effect = []\n",
    "station_facilities_alerts_headerText = []\n",
    "station_facilities_alerts_descriptionText = []\n",
    "station_facilities_alerts_datetime = []\n",
    "for entity in station_facilities_alerts:\n",
    "        station_facilities_alerts_datetime.append(datetime)\n",
    "        station_facilities_alerts_agencyId.append(entity['alert']['informedEntity'][0]['agencyId'])\n",
    "        station_facilities_alerts_stopId.append(entity['alert']['informedEntity'][0]['stopId'])\n",
    "        station_facilities_alerts_cause.append(entity['alert']['cause'])\n",
    "        station_facilities_alerts_effect.append(entity['alert']['effect'])\n",
    "        station_facilities_alerts_headerText.append(entity['alert']['headerText']['translation'][0]['text'])\n",
    "        station_facilities_alerts_descriptionText.append(entity['alert']['descriptionText']['translation'][0]['text'])"
   ]
  },
  {
   "cell_type": "code",
   "execution_count": 15,
   "metadata": {},
   "outputs": [],
   "source": [
    "df_station = pd.DataFrame(columns = ['datetime','agencyId',\n",
    "                                     'stopId',\n",
    "                                     'cause',\n",
    "                                     'effect',\n",
    "                                     'headerText',\n",
    "                                     'descriptionText'])\n",
    "\n",
    "df_station['datetime'] = pd.Series(station_facilities_alerts_datetime)\n",
    "df_station['agencyId'] = pd.Series(station_facilities_alerts_agencyId)\n",
    "df_station['stopId'] = pd.Series(station_facilities_alerts_stopId)\n",
    "df_station['cause'] = pd.Series(station_facilities_alerts_cause)\n",
    "df_station['effect'] = pd.Series(station_facilities_alerts_effect)\n",
    "df_station['headerText'] = pd.Series(station_facilities_alerts_headerText)\n",
    "df_station['descriptionText'] = pd.Series(station_facilities_alerts_descriptionText)"
   ]
  },
  {
   "cell_type": "code",
   "execution_count": 16,
   "metadata": {},
   "outputs": [
    {
     "data": {
      "text/html": [
       "<div>\n",
       "<style scoped>\n",
       "    .dataframe tbody tr th:only-of-type {\n",
       "        vertical-align: middle;\n",
       "    }\n",
       "\n",
       "    .dataframe tbody tr th {\n",
       "        vertical-align: top;\n",
       "    }\n",
       "\n",
       "    .dataframe thead th {\n",
       "        text-align: right;\n",
       "    }\n",
       "</style>\n",
       "<table border=\"1\" class=\"dataframe\">\n",
       "  <thead>\n",
       "    <tr style=\"text-align: right;\">\n",
       "      <th></th>\n",
       "      <th>datetime</th>\n",
       "      <th>agencyId</th>\n",
       "      <th>stopId</th>\n",
       "      <th>cause</th>\n",
       "      <th>effect</th>\n",
       "      <th>headerText</th>\n",
       "      <th>descriptionText</th>\n",
       "    </tr>\n",
       "  </thead>\n",
       "  <tbody>\n",
       "    <tr>\n",
       "      <th>0</th>\n",
       "      <td>20200417 08:51:52</td>\n",
       "      <td>SydneyTrains</td>\n",
       "      <td>223010</td>\n",
       "      <td>OTHER_CAUSE</td>\n",
       "      <td>UNKNOWN_EFFECT</td>\n",
       "      <td>Lift Availability - Woolooware</td>\n",
       "      <td>The lift between the concourse and Denham Aven...</td>\n",
       "    </tr>\n",
       "    <tr>\n",
       "      <th>1</th>\n",
       "      <td>20200417 08:51:52</td>\n",
       "      <td>SydneyTrains</td>\n",
       "      <td>257610</td>\n",
       "      <td>OTHER_CAUSE</td>\n",
       "      <td>UNKNOWN_EFFECT</td>\n",
       "      <td>Station Update - Bowral</td>\n",
       "      <td>Drop-off zones on Kirkham Road alongside platf...</td>\n",
       "    </tr>\n",
       "    <tr>\n",
       "      <th>2</th>\n",
       "      <td>20200417 08:51:52</td>\n",
       "      <td>SydneyTrains</td>\n",
       "      <td>200050</td>\n",
       "      <td>OTHER_CAUSE</td>\n",
       "      <td>UNKNOWN_EFFECT</td>\n",
       "      <td>Station Update - St James</td>\n",
       "      <td>The public toilets at St James Station are clo...</td>\n",
       "    </tr>\n",
       "    <tr>\n",
       "      <th>3</th>\n",
       "      <td>20200417 08:51:52</td>\n",
       "      <td>SydneyTrains</td>\n",
       "      <td>204420</td>\n",
       "      <td>OTHER_CAUSE</td>\n",
       "      <td>UNKNOWN_EFFECT</td>\n",
       "      <td>Station Update - Sydenham</td>\n",
       "      <td>New Metro Platforms are being constructed on p...</td>\n",
       "    </tr>\n",
       "    <tr>\n",
       "      <th>4</th>\n",
       "      <td>20200417 08:51:52</td>\n",
       "      <td>SydneyTrains</td>\n",
       "      <td>200080</td>\n",
       "      <td>OTHER_CAUSE</td>\n",
       "      <td>UNKNOWN_EFFECT</td>\n",
       "      <td>Station Update - Wynyard</td>\n",
       "      <td>Station Upgrade - Customers, due to Wynyard st...</td>\n",
       "    </tr>\n",
       "  </tbody>\n",
       "</table>\n",
       "</div>"
      ],
      "text/plain": [
       "            datetime      agencyId  stopId        cause          effect  \\\n",
       "0  20200417 08:51:52  SydneyTrains  223010  OTHER_CAUSE  UNKNOWN_EFFECT   \n",
       "1  20200417 08:51:52  SydneyTrains  257610  OTHER_CAUSE  UNKNOWN_EFFECT   \n",
       "2  20200417 08:51:52  SydneyTrains  200050  OTHER_CAUSE  UNKNOWN_EFFECT   \n",
       "3  20200417 08:51:52  SydneyTrains  204420  OTHER_CAUSE  UNKNOWN_EFFECT   \n",
       "4  20200417 08:51:52  SydneyTrains  200080  OTHER_CAUSE  UNKNOWN_EFFECT   \n",
       "\n",
       "                       headerText  \\\n",
       "0  Lift Availability - Woolooware   \n",
       "1         Station Update - Bowral   \n",
       "2       Station Update - St James   \n",
       "3       Station Update - Sydenham   \n",
       "4        Station Update - Wynyard   \n",
       "\n",
       "                                     descriptionText  \n",
       "0  The lift between the concourse and Denham Aven...  \n",
       "1  Drop-off zones on Kirkham Road alongside platf...  \n",
       "2  The public toilets at St James Station are clo...  \n",
       "3  New Metro Platforms are being constructed on p...  \n",
       "4  Station Upgrade - Customers, due to Wynyard st...  "
      ]
     },
     "execution_count": 16,
     "metadata": {},
     "output_type": "execute_result"
    }
   ],
   "source": [
    "df_station.head()"
   ]
  },
  {
   "cell_type": "code",
   "execution_count": 17,
   "metadata": {},
   "outputs": [],
   "source": [
    "hdr = False if os.path.isfile('station_facilities_alerts_' + file_date + '.csv') else True\n",
    "df_station.to_csv('station_facilities_alerts_' + file_date + '.csv', mode='a', header=hdr, index=False)\n",
    "\n"
   ]
  },
  {
   "cell_type": "code",
   "execution_count": 18,
   "metadata": {},
   "outputs": [],
   "source": [
    "line_service_alerts_agencyId = []\n",
    "line_service_alerts_routeId = []\n",
    "line_service_alerts_headerText = []\n",
    "line_service_alerts_descriptionText = []\n",
    "line_service_alerts_datetime = []\n",
    "for entity in line_service_alerts:\n",
    "    for sub_entity in entity['alert']['informedEntity']:\n",
    "        line_service_alerts_datetime.append(datetime)\n",
    "        line_service_alerts_agencyId.append(sub_entity['agencyId'])      \n",
    "        line_service_alerts_routeId.append(sub_entity['routeId'])\n",
    "        line_service_alerts_headerText.append(entity['alert']['headerText']['translation'][0]['text'])\n",
    "        line_service_alerts_descriptionText.append(entity['alert']['descriptionText']['translation'][0]['text'])     "
   ]
  },
  {
   "cell_type": "code",
   "execution_count": 19,
   "metadata": {},
   "outputs": [],
   "source": [
    "df_line = pd.DataFrame(columns = ['datetime','agencyId',\n",
    "                                  'routeId',\n",
    "                                  'headerText',\n",
    "                                  'descriptionText'])\n",
    "\n",
    "df_line['datetime'] = pd.Series(line_service_alerts_datetime)\n",
    "df_line['agencyId'] = pd.Series(line_service_alerts_agencyId)\n",
    "df_line['routeId'] = pd.Series(line_service_alerts_routeId)\n",
    "df_line['headerText'] = pd.Series(line_service_alerts_headerText)\n",
    "df_line['descriptionText'] = pd.Series(line_service_alerts_descriptionText)"
   ]
  },
  {
   "cell_type": "code",
   "execution_count": 20,
   "metadata": {},
   "outputs": [
    {
     "data": {
      "text/html": [
       "<div>\n",
       "<style scoped>\n",
       "    .dataframe tbody tr th:only-of-type {\n",
       "        vertical-align: middle;\n",
       "    }\n",
       "\n",
       "    .dataframe tbody tr th {\n",
       "        vertical-align: top;\n",
       "    }\n",
       "\n",
       "    .dataframe thead th {\n",
       "        text-align: right;\n",
       "    }\n",
       "</style>\n",
       "<table border=\"1\" class=\"dataframe\">\n",
       "  <thead>\n",
       "    <tr style=\"text-align: right;\">\n",
       "      <th></th>\n",
       "      <th>datetime</th>\n",
       "      <th>agencyId</th>\n",
       "      <th>routeId</th>\n",
       "      <th>headerText</th>\n",
       "      <th>descriptionText</th>\n",
       "    </tr>\n",
       "  </thead>\n",
       "  <tbody>\n",
       "    <tr>\n",
       "      <th>0</th>\n",
       "      <td>20200417 08:51:52</td>\n",
       "      <td>NSWTrains</td>\n",
       "      <td>BMT_2</td>\n",
       "      <td>Trackwork - Blue Mountains Line</td>\n",
       "      <td>Until further notice:\\n- Due to infrastructure...</td>\n",
       "    </tr>\n",
       "    <tr>\n",
       "      <th>1</th>\n",
       "      <td>20200417 08:51:52</td>\n",
       "      <td>NSWTrains</td>\n",
       "      <td>BMT_1</td>\n",
       "      <td>Trackwork - Blue Mountains Line</td>\n",
       "      <td>Until further notice:\\n- Due to infrastructure...</td>\n",
       "    </tr>\n",
       "  </tbody>\n",
       "</table>\n",
       "</div>"
      ],
      "text/plain": [
       "            datetime   agencyId routeId                       headerText  \\\n",
       "0  20200417 08:51:52  NSWTrains   BMT_2  Trackwork - Blue Mountains Line   \n",
       "1  20200417 08:51:52  NSWTrains   BMT_1  Trackwork - Blue Mountains Line   \n",
       "\n",
       "                                     descriptionText  \n",
       "0  Until further notice:\\n- Due to infrastructure...  \n",
       "1  Until further notice:\\n- Due to infrastructure...  "
      ]
     },
     "execution_count": 20,
     "metadata": {},
     "output_type": "execute_result"
    }
   ],
   "source": [
    "df_line.head()"
   ]
  },
  {
   "cell_type": "code",
   "execution_count": 21,
   "metadata": {},
   "outputs": [],
   "source": [
    "hdr = False if os.path.isfile('line_service_alerts_' + file_date + '.csv') else True\n",
    "df_line.to_csv('line_service_alerts_' + file_date + '.csv', mode='a', header=hdr, index=False)\n",
    "\n"
   ]
  },
  {
   "cell_type": "code",
   "execution_count": 22,
   "metadata": {},
   "outputs": [
    {
     "data": {
      "text/plain": [
       "{'id': '3',\n",
       " 'alert': {'informedEntity': [{'agencyId': 'SydneyTrains',\n",
       "    'trip': {'tripId': '32-H.1648.102.96.K.8.61930299'}},\n",
       "   {'agencyId': 'SydneyTrains',\n",
       "    'trip': {'tripId': '13-F.1648.102.64.B.8.62240900'}},\n",
       "   {'agencyId': 'SydneyTrains',\n",
       "    'trip': {'tripId': '3--E.1648.102.64.B.8.61930303'}},\n",
       "   {'agencyId': 'SydneyTrains',\n",
       "    'trip': {'tripId': '8--H.1648.102.112.B.8.61257377'}}],\n",
       "  'url': {'translation': [{'text': 'https://transportnsw.info/alerts#/train',\n",
       "     'language': 'en'}]},\n",
       "  'headerText': {'translation': [{'text': 'Delayed', 'language': 'en'}]},\n",
       "  'descriptionText': {'translation': [{'text': ' due to an operational issue at Central earlier',\n",
       "     'language': 'en'}]}}}"
      ]
     },
     "execution_count": 22,
     "metadata": {},
     "output_type": "execute_result"
    }
   ],
   "source": [
    "trip_based_alerts[0]"
   ]
  },
  {
   "cell_type": "code",
   "execution_count": 23,
   "metadata": {},
   "outputs": [],
   "source": [
    "trip_based_alerts_agencyId = []\n",
    "trip_based_alerts_tripId = []\n",
    "trip_based_alerts_headerText = []\n",
    "trip_based_alerts_descriptionText = []\n",
    "trip_based_alerts_datetime = []\n",
    "for entity in trip_based_alerts:\n",
    "    for sub_entity in entity['alert']['informedEntity']:\n",
    "        trip_based_alerts_datetime.append(datetime)\n",
    "        trip_based_alerts_agencyId.append(sub_entity['agencyId'])\n",
    "        trip_based_alerts_tripId.append(sub_entity['trip']['tripId'])\n",
    "        trip_based_alerts_headerText.append(entity['alert']['headerText']['translation'][0]['text'])\n",
    "        trip_based_alerts_descriptionText.append(entity['alert']['descriptionText']['translation'][0]['text'])"
   ]
  },
  {
   "cell_type": "code",
   "execution_count": 24,
   "metadata": {},
   "outputs": [],
   "source": [
    "df_trip = pd.DataFrame(columns = ['datetime','agencyId',\n",
    "                                  'tripId',\n",
    "                                  'headerText',\n",
    "                                  'descriptionText'])\n",
    "df_trip['agencyId'] = pd.Series(trip_based_alerts_agencyId)\n",
    "df_trip['datetime'] = pd.Series(trip_based_alerts_datetime)\n",
    "df_trip['tripId'] = pd.Series(trip_based_alerts_tripId)\n",
    "df_trip['headerText'] = pd.Series(trip_based_alerts_headerText)\n",
    "df_trip['descriptionText'] = pd.Series(trip_based_alerts_descriptionText)"
   ]
  },
  {
   "cell_type": "code",
   "execution_count": 25,
   "metadata": {},
   "outputs": [
    {
     "data": {
      "text/html": [
       "<div>\n",
       "<style scoped>\n",
       "    .dataframe tbody tr th:only-of-type {\n",
       "        vertical-align: middle;\n",
       "    }\n",
       "\n",
       "    .dataframe tbody tr th {\n",
       "        vertical-align: top;\n",
       "    }\n",
       "\n",
       "    .dataframe thead th {\n",
       "        text-align: right;\n",
       "    }\n",
       "</style>\n",
       "<table border=\"1\" class=\"dataframe\">\n",
       "  <thead>\n",
       "    <tr style=\"text-align: right;\">\n",
       "      <th></th>\n",
       "      <th>datetime</th>\n",
       "      <th>agencyId</th>\n",
       "      <th>tripId</th>\n",
       "      <th>headerText</th>\n",
       "      <th>descriptionText</th>\n",
       "    </tr>\n",
       "  </thead>\n",
       "  <tbody>\n",
       "    <tr>\n",
       "      <th>0</th>\n",
       "      <td>20200417 08:51:52</td>\n",
       "      <td>SydneyTrains</td>\n",
       "      <td>32-H.1648.102.96.K.8.61930299</td>\n",
       "      <td>Delayed</td>\n",
       "      <td>due to an operational issue at Central earlier</td>\n",
       "    </tr>\n",
       "    <tr>\n",
       "      <th>1</th>\n",
       "      <td>20200417 08:51:52</td>\n",
       "      <td>SydneyTrains</td>\n",
       "      <td>13-F.1648.102.64.B.8.62240900</td>\n",
       "      <td>Delayed</td>\n",
       "      <td>due to an operational issue at Central earlier</td>\n",
       "    </tr>\n",
       "    <tr>\n",
       "      <th>2</th>\n",
       "      <td>20200417 08:51:52</td>\n",
       "      <td>SydneyTrains</td>\n",
       "      <td>3--E.1648.102.64.B.8.61930303</td>\n",
       "      <td>Delayed</td>\n",
       "      <td>due to an operational issue at Central earlier</td>\n",
       "    </tr>\n",
       "    <tr>\n",
       "      <th>3</th>\n",
       "      <td>20200417 08:51:52</td>\n",
       "      <td>SydneyTrains</td>\n",
       "      <td>8--H.1648.102.112.B.8.61257377</td>\n",
       "      <td>Delayed</td>\n",
       "      <td>due to an operational issue at Central earlier</td>\n",
       "    </tr>\n",
       "    <tr>\n",
       "      <th>4</th>\n",
       "      <td>20200417 08:51:52</td>\n",
       "      <td>SydneyTrains</td>\n",
       "      <td>33-D.1648.102.112.K.8.61261475</td>\n",
       "      <td>Cancelled</td>\n",
       "      <td>due to a train requiring mechanical repairs e...</td>\n",
       "    </tr>\n",
       "  </tbody>\n",
       "</table>\n",
       "</div>"
      ],
      "text/plain": [
       "            datetime      agencyId                          tripId headerText  \\\n",
       "0  20200417 08:51:52  SydneyTrains   32-H.1648.102.96.K.8.61930299    Delayed   \n",
       "1  20200417 08:51:52  SydneyTrains   13-F.1648.102.64.B.8.62240900    Delayed   \n",
       "2  20200417 08:51:52  SydneyTrains   3--E.1648.102.64.B.8.61930303    Delayed   \n",
       "3  20200417 08:51:52  SydneyTrains  8--H.1648.102.112.B.8.61257377    Delayed   \n",
       "4  20200417 08:51:52  SydneyTrains  33-D.1648.102.112.K.8.61261475  Cancelled   \n",
       "\n",
       "                                     descriptionText  \n",
       "0     due to an operational issue at Central earlier  \n",
       "1     due to an operational issue at Central earlier  \n",
       "2     due to an operational issue at Central earlier  \n",
       "3     due to an operational issue at Central earlier  \n",
       "4   due to a train requiring mechanical repairs e...  "
      ]
     },
     "execution_count": 25,
     "metadata": {},
     "output_type": "execute_result"
    }
   ],
   "source": [
    "df_trip.head()"
   ]
  },
  {
   "cell_type": "code",
   "execution_count": 26,
   "metadata": {},
   "outputs": [],
   "source": [
    "hdr = False if os.path.isfile('trip_based_alerts_' + file_date + '.csv') else True\n",
    "df_trip.to_csv('trip_based_alerts_' + file_date + '.csv', mode='a', header=hdr, index=False)\n"
   ]
  },
  {
   "cell_type": "code",
   "execution_count": null,
   "metadata": {},
   "outputs": [],
   "source": []
  }
 ],
 "metadata": {
  "kernelspec": {
   "display_name": "Python 3",
   "language": "python",
   "name": "python3"
  },
  "language_info": {
   "codemirror_mode": {
    "name": "ipython",
    "version": 3
   },
   "file_extension": ".py",
   "mimetype": "text/x-python",
   "name": "python",
   "nbconvert_exporter": "python",
   "pygments_lexer": "ipython3",
   "version": "3.8.2"
  },
  "toc": {
   "base_numbering": 1,
   "nav_menu": {},
   "number_sections": true,
   "sideBar": true,
   "skip_h1_title": false,
   "title_cell": "Table of Contents",
   "title_sidebar": "Contents",
   "toc_cell": false,
   "toc_position": {},
   "toc_section_display": true,
   "toc_window_display": false
  }
 },
 "nbformat": 4,
 "nbformat_minor": 2
}
