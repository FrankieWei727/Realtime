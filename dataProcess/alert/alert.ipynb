{
 "cells": [
  {
   "cell_type": "code",
   "execution_count": 1,
   "metadata": {},
   "outputs": [],
   "source": [
    "import json\n",
    "import pandas as pd \n",
    "import numpy as np\n",
    "from datetime import date"
   ]
  },
  {
   "cell_type": "code",
   "execution_count": 2,
   "metadata": {},
   "outputs": [],
   "source": [
    "pd.set_option('display.max_columns', None)"
   ]
  },
  {
   "cell_type": "code",
   "execution_count": 3,
   "metadata": {},
   "outputs": [],
   "source": [
    "pd.set_option('display.max_rows', 500)"
   ]
  },
  {
   "cell_type": "code",
   "execution_count": 4,
   "metadata": {},
   "outputs": [],
   "source": [
    "with open(\"alert.json\", \"r\") as read_file:\n",
    "    data = json.load(read_file)"
   ]
  },
  {
   "cell_type": "code",
   "execution_count": 5,
   "metadata": {},
   "outputs": [],
   "source": [
    "data['header']['timestamp']\n",
    "time = pd.to_datetime(data['header']['timestamp'], unit='s')\n",
    "time = time + pd.Timedelta('10:00:00')\n",
    "time = time.strftime('%Y%m%d %H:%M:%S')"
   ]
  },
  {
   "cell_type": "code",
   "execution_count": 6,
   "metadata": {},
   "outputs": [],
   "source": [
    "entities = data['entity']\n",
    "line_service_alerts = []\n",
    "station_facilities_alerts = []\n",
    "trip_based_alerts = []"
   ]
  },
  {
   "cell_type": "code",
   "execution_count": 7,
   "metadata": {},
   "outputs": [
    {
     "data": {
      "text/plain": [
       "1"
      ]
     },
     "execution_count": 7,
     "metadata": {},
     "output_type": "execute_result"
    }
   ],
   "source": [
    "for line_service_alert in entities:\n",
    "    alerts = line_service_alert['alert']['informedEntity']\n",
    "    keep_running = True\n",
    "    for alert in alerts:\n",
    "        if 'routeId' in alert and keep_running == True:\n",
    "            line_service_alerts.append(line_service_alert)\n",
    "            keep_running = False \n",
    "        else:\n",
    "            break  \n",
    "len(line_service_alerts)"
   ]
  },
  {
   "cell_type": "code",
   "execution_count": 8,
   "metadata": {},
   "outputs": [
    {
     "data": {
      "text/plain": [
       "7"
      ]
     },
     "execution_count": 8,
     "metadata": {},
     "output_type": "execute_result"
    }
   ],
   "source": [
    "for station_facilities_alert in entities:\n",
    "    alerts = station_facilities_alert['alert']['informedEntity']\n",
    "    keep_running = True\n",
    "    for alert in alerts:\n",
    "        if 'stopId' in alert and keep_running == True:\n",
    "            station_facilities_alerts.append(station_facilities_alert)\n",
    "            keep_running = False\n",
    "            \n",
    "len(station_facilities_alerts)"
   ]
  },
  {
   "cell_type": "code",
   "execution_count": 9,
   "metadata": {},
   "outputs": [
    {
     "data": {
      "text/plain": [
       "3"
      ]
     },
     "execution_count": 9,
     "metadata": {},
     "output_type": "execute_result"
    }
   ],
   "source": [
    "for trip_based_alert in entities:\n",
    "    alerts = trip_based_alert['alert']['informedEntity']\n",
    "    keep_running = True\n",
    "    for alert in alerts:\n",
    "        if 'trip' in alert and keep_running == True:\n",
    "            trip_based_alerts.append(trip_based_alert)\n",
    "            keep_running = False\n",
    "            \n",
    "len(trip_based_alerts)"
   ]
  },
  {
   "cell_type": "code",
   "execution_count": 10,
   "metadata": {},
   "outputs": [
    {
     "data": {
      "text/plain": [
       "[{'id': '3',\n",
       "  'alert': {'informedEntity': [{'agencyId': 'SydneyTrains',\n",
       "     'trip': {'tripId': '656X.1649.102.194.T.8.61080458'}},\n",
       "    {'agencyId': 'SydneyTrains',\n",
       "     'trip': {'tripId': '650W.1649.102.66.T.8.61081068'}},\n",
       "    {'agencyId': 'SydneyTrains',\n",
       "     'trip': {'tripId': '675B.1649.102.194.T.8.61081055'}},\n",
       "    {'agencyId': 'SydneyTrains',\n",
       "     'trip': {'tripId': '657X.1649.102.194.T.8.61079580'}},\n",
       "    {'agencyId': 'SydneyTrains',\n",
       "     'trip': {'tripId': '657T.1649.102.194.T.8.61079579'}},\n",
       "    {'agencyId': 'SydneyTrains',\n",
       "     'trip': {'tripId': '655X.1649.102.194.T.8.61079890'}},\n",
       "    {'agencyId': 'SydneyTrains',\n",
       "     'trip': {'tripId': '676B.1649.102.194.T.8.61081709'}},\n",
       "    {'agencyId': 'SydneyTrains',\n",
       "     'trip': {'tripId': '675F.1649.102.194.T.8.61081056'}},\n",
       "    {'agencyId': 'SydneyTrains',\n",
       "     'trip': {'tripId': '677B.1649.102.194.T.8.61080448'}},\n",
       "    {'agencyId': 'SydneyTrains',\n",
       "     'trip': {'tripId': '658X.1649.102.196.T.8.62139651'}},\n",
       "    {'agencyId': 'SydneyTrains',\n",
       "     'trip': {'tripId': '677F.1649.102.194.T.8.61079012'}},\n",
       "    {'agencyId': 'SydneyTrains',\n",
       "     'trip': {'tripId': '683B.1649.102.64.T.8.61081248'}},\n",
       "    {'agencyId': 'SydneyTrains',\n",
       "     'trip': {'tripId': '670E.1649.102.66.T.8.61602604'}},\n",
       "    {'agencyId': 'SydneyTrains',\n",
       "     'trip': {'tripId': '663T.1649.102.64.T.8.61081494'}},\n",
       "    {'agencyId': 'SydneyTrains',\n",
       "     'trip': {'tripId': '663X.1649.102.64.T.8.61081247'}},\n",
       "    {'agencyId': 'SydneyTrains',\n",
       "     'trip': {'tripId': '670A.1649.102.66.T.8.61080109'}},\n",
       "    {'agencyId': 'SydneyTrains',\n",
       "     'trip': {'tripId': '658T.1649.102.196.T.8.61081225'}},\n",
       "    {'agencyId': 'SydneyTrains',\n",
       "     'trip': {'tripId': '678B.1649.102.196.T.8.61080786'}}],\n",
       "   'url': {'translation': [{'text': 'https://transportnsw.info/alerts#/train',\n",
       "      'language': 'en'}]},\n",
       "   'headerText': {'translation': [{'text': 'Added Stops', 'language': 'en'}]},\n",
       "   'descriptionText': {'translation': [{'text': 'Tempe due to planned trackwork this long weekend on the ESR & Illawarra Line.',\n",
       "      'language': 'en'}]}}},\n",
       " {'id': '21',\n",
       "  'alert': {'informedEntity': [{'agencyId': 'SydneyTrains',\n",
       "     'trip': {'tripId': '107R.1649.102.64.T.8.61784554'}}],\n",
       "   'url': {'translation': [{'text': 'https://transportnsw.info/alerts#/train',\n",
       "      'language': 'en'}]},\n",
       "   'headerText': {'translation': [{'text': 'Added Stops', 'language': 'en'}]},\n",
       "   'descriptionText': {'translation': [{'text': 'Gordon due to a train requiring mechanical repairs',\n",
       "      'language': 'en'}]}}},\n",
       " {'id': '22',\n",
       "  'alert': {'informedEntity': [{'agencyId': 'SydneyTrains',\n",
       "     'trip': {'tripId': '19-G.1649.102.194.B.8.61081487'}}],\n",
       "   'url': {'translation': [{'text': 'https://transportnsw.info/alerts#/train',\n",
       "      'language': 'en'}]},\n",
       "   'headerText': {'translation': [{'text': 'Delayed', 'language': 'en'}]},\n",
       "   'descriptionText': {'translation': [{'text': ' due to an operational issue at Liverpool earlier.',\n",
       "      'language': 'en'}]}}}]"
      ]
     },
     "execution_count": 10,
     "metadata": {},
     "output_type": "execute_result"
    }
   ],
   "source": [
    "trip_based_alerts"
   ]
  },
  {
   "cell_type": "code",
   "execution_count": 11,
   "metadata": {},
   "outputs": [
    {
     "data": {
      "text/plain": [
       "[{'id': '23',\n",
       "  'alert': {'informedEntity': [{'agencyId': 'SydneyTrains',\n",
       "     'stopId': '200030'}],\n",
       "   'cause': 'OTHER_CAUSE',\n",
       "   'effect': 'UNKNOWN_EFFECT',\n",
       "   'url': {'translation': [{'text': 'https://transportnsw.info/alerts#/train',\n",
       "      'language': 'en'}]},\n",
       "   'headerText': {'translation': [{'text': 'Lift Availability - Martin Place',\n",
       "      'language': 'en'}]},\n",
       "   'descriptionText': {'translation': [{'text': 'The lift between platforms 1 and 2 and the concourse is temporarily out of service. If you require assistance, please call staff at Martin Place Station on 9379 4858.',\n",
       "      'language': 'en'}]}}},\n",
       " {'id': '24',\n",
       "  'alert': {'informedEntity': [{'agencyId': 'SydneyTrains',\n",
       "     'stopId': '200030'}],\n",
       "   'cause': 'OTHER_CAUSE',\n",
       "   'effect': 'UNKNOWN_EFFECT',\n",
       "   'url': {'translation': [{'text': 'https://transportnsw.info/alerts#/train',\n",
       "      'language': 'en'}]},\n",
       "   'headerText': {'translation': [{'text': 'Lift Availability - Martin Place',\n",
       "      'language': 'en'}]},\n",
       "   'descriptionText': {'translation': [{'text': 'The lift between the station concourse, gallery level and Martin Place is temporarily out of service. If you require assistance, please call staff at Martin Place Station on 9379 4858.',\n",
       "      'language': 'en'}]}}},\n",
       " {'id': '25',\n",
       "  'alert': {'informedEntity': [{'agencyId': 'SydneyTrains',\n",
       "     'stopId': '257610'}],\n",
       "   'cause': 'OTHER_CAUSE',\n",
       "   'effect': 'UNKNOWN_EFFECT',\n",
       "   'url': {'translation': [{'text': 'https://transportnsw.info/alerts#/train',\n",
       "      'language': 'en'}]},\n",
       "   'headerText': {'translation': [{'text': 'Station Update - Bowral',\n",
       "      'language': 'en'}]},\n",
       "   'descriptionText': {'translation': [{'text': 'Drop-off zones on Kirkham Road alongside platform 1 will not be accessible until June due to scheduled council roadworks. An alternative drop-off zone is available at the Station Car Park located on Station Street.  Please allow additional time in order to catch your service.',\n",
       "      'language': 'en'}]}}},\n",
       " {'id': '26',\n",
       "  'alert': {'informedEntity': [{'agencyId': 'SydneyTrains',\n",
       "     'stopId': '200060'}],\n",
       "   'cause': 'OTHER_CAUSE',\n",
       "   'effect': 'UNKNOWN_EFFECT',\n",
       "   'url': {'translation': [{'text': 'https://transportnsw.info/alerts#/train',\n",
       "      'language': 'en'}]},\n",
       "   'headerText': {'translation': [{'text': 'Station Update - Central',\n",
       "      'language': 'en'}]},\n",
       "   'descriptionText': {'translation': [{'text': 'The accessible ramp from South Concourse to North Concourse will be temporarily closed between 10pm and 5am.  If entering the station from Chalmers Street, lift access for Platforms 1 to 25 is via Elizabeth Street and Eddy Avenue.  If entering the station from Lee Street, lift access for Platforms 1 to 25 is via Western Forecourt Station Entry.',\n",
       "      'language': 'en'}]}}},\n",
       " {'id': '27',\n",
       "  'alert': {'informedEntity': [{'agencyId': 'SydneyTrains',\n",
       "     'stopId': '200050'}],\n",
       "   'cause': 'OTHER_CAUSE',\n",
       "   'effect': 'UNKNOWN_EFFECT',\n",
       "   'url': {'translation': [{'text': 'https://transportnsw.info/alerts#/train',\n",
       "      'language': 'en'}]},\n",
       "   'headerText': {'translation': [{'text': 'Station Update - St James',\n",
       "      'language': 'en'}]},\n",
       "   'descriptionText': {'translation': [{'text': 'The public toilets at St James Station are closed while major works are taking place. Public toilets are located at the Elizabeth Street entrance to the right and in Hyde Park through the Macquarie Street tunnel up the stairs to the right. We apologise for any inconvenience.',\n",
       "      'language': 'en'}]}}},\n",
       " {'id': '28',\n",
       "  'alert': {'informedEntity': [{'agencyId': 'SydneyTrains',\n",
       "     'stopId': '204420'}],\n",
       "   'cause': 'OTHER_CAUSE',\n",
       "   'effect': 'UNKNOWN_EFFECT',\n",
       "   'url': {'translation': [{'text': 'https://transportnsw.info/alerts#/train',\n",
       "      'language': 'en'}]},\n",
       "   'headerText': {'translation': [{'text': 'Station Update - Sydenham',\n",
       "      'language': 'en'}]},\n",
       "   'descriptionText': {'translation': [{'text': 'New Metro Platforms are being constructed on platforms 1 & 2 at Sydenham Station. T3 Bankstown Line services to the City operate from platform 3 & T3 Bankstown Line services to Lidcombe and Liverpool operate from platform 4. Platform 4, 5 & 6 upgrade works - A new Metro concourse is also being constructed at the Northern end of the station. While the concourse is being installed, please board and alight from the first 5 carriages of the train on platforms 4 & 6 and the last 6 carriages of the train on platform 5. If you need help, please see staff at the station. For more information on these upgrades, please see sydneymetro.info',\n",
       "      'language': 'en'}]}}},\n",
       " {'id': '29',\n",
       "  'alert': {'informedEntity': [{'agencyId': 'SydneyTrains',\n",
       "     'stopId': '200080'}],\n",
       "   'cause': 'OTHER_CAUSE',\n",
       "   'effect': 'UNKNOWN_EFFECT',\n",
       "   'url': {'translation': [{'text': 'https://transportnsw.info/alerts#/train',\n",
       "      'language': 'en'}]},\n",
       "   'headerText': {'translation': [{'text': 'Station Update - Wynyard',\n",
       "      'language': 'en'}]},\n",
       "   'descriptionText': {'translation': [{'text': 'Station Upgrade - Customers, due to Wynyard station upgrade the lifts from the concourse level to George Street will be closed until July 2020. Customers will be able use alternate lifts from Wynyard Station to Carrington Street and York Street accessed via Margaret Street.  For further information or assistance, Please follow station staff instructions, station signage or call Wynyard Station on 9224 2959.',\n",
       "      'language': 'en'}]}}}]"
      ]
     },
     "execution_count": 11,
     "metadata": {},
     "output_type": "execute_result"
    }
   ],
   "source": [
    "station_facilities_alerts"
   ]
  },
  {
   "cell_type": "code",
   "execution_count": 12,
   "metadata": {},
   "outputs": [
    {
     "data": {
      "text/plain": [
       "[{'id': '1',\n",
       "  'alert': {'informedEntity': [{'agencyId': 'NSWTrains', 'routeId': 'BMT_1'},\n",
       "    {'agencyId': 'NSWTrains', 'routeId': 'BMT_2'}],\n",
       "   'url': {'translation': [{'text': 'https://transportnsw.info/alerts#/train',\n",
       "      'language': 'en'}]},\n",
       "   'headerText': {'translation': [{'text': 'Trackwork - Blue Mountains Line',\n",
       "      'language': 'en'}]},\n",
       "   'descriptionText': {'translation': [{'text': 'Until further notice:\\n- Due to infrastructure damage caused by bushfires, buses continue to replace trains between Bathurst, Lithgow and Mount Victoria.\\n- Some trains continue to run between Bathurst and Lithgow, and between Bathurst and Central, to a changed timetable.\\n- Other trains may also be affected.\\n\\nPlease use transport apps or visit transportnsw.info for details.',\n",
       "      'language': 'en'}]}}}]"
      ]
     },
     "execution_count": 12,
     "metadata": {},
     "output_type": "execute_result"
    }
   ],
   "source": [
    "line_service_alerts"
   ]
  },
  {
   "cell_type": "code",
   "execution_count": null,
   "metadata": {},
   "outputs": [],
   "source": []
  }
 ],
 "metadata": {
  "kernelspec": {
   "display_name": "Python 3",
   "language": "python",
   "name": "python3"
  },
  "language_info": {
   "codemirror_mode": {
    "name": "ipython",
    "version": 3
   },
   "file_extension": ".py",
   "mimetype": "text/x-python",
   "name": "python",
   "nbconvert_exporter": "python",
   "pygments_lexer": "ipython3",
   "version": "3.8.1"
  },
  "toc": {
   "base_numbering": 1,
   "nav_menu": {},
   "number_sections": true,
   "sideBar": true,
   "skip_h1_title": false,
   "title_cell": "Table of Contents",
   "title_sidebar": "Contents",
   "toc_cell": false,
   "toc_position": {},
   "toc_section_display": true,
   "toc_window_display": false
  }
 },
 "nbformat": 4,
 "nbformat_minor": 2
}
