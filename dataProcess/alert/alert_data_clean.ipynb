{
 "cells": [
  {
   "cell_type": "code",
   "execution_count": 1,
   "metadata": {},
   "outputs": [],
   "source": [
    "import json\n",
    "import os\n",
    "import pandas as pd \n",
    "import numpy as np\n",
    "from datetime import date"
   ]
  },
  {
   "cell_type": "code",
   "execution_count": 2,
   "metadata": {},
   "outputs": [],
   "source": [
    "pd.set_option('display.max_columns', None)"
   ]
  },
  {
   "cell_type": "code",
   "execution_count": 3,
   "metadata": {},
   "outputs": [
    {
     "data": {
      "text/plain": [
       "'20200410'"
      ]
     },
     "execution_count": 3,
     "metadata": {},
     "output_type": "execute_result"
    }
   ],
   "source": [
    "file_date = date.today().strftime(\"%Y%m%d\")\n",
    "file_date"
   ]
  },
  {
   "cell_type": "code",
   "execution_count": 4,
   "metadata": {},
   "outputs": [],
   "source": [
    "pd.set_option('display.max_rows', 500)"
   ]
  },
  {
   "cell_type": "code",
   "execution_count": 5,
   "metadata": {},
   "outputs": [],
   "source": [
    "with open(\"alert.json\", \"r\") as read_file:\n",
    "    data = json.load(read_file)"
   ]
  },
  {
   "cell_type": "code",
   "execution_count": 6,
   "metadata": {},
   "outputs": [],
   "source": [
    "data['header']['timestamp']\n",
    "time = pd.to_datetime(data['header']['timestamp'], unit='s')\n",
    "time = time + pd.Timedelta('10:00:00')\n",
    "time = time.strftime('%Y%m%d %H:%M:%S')"
   ]
  },
  {
   "cell_type": "code",
   "execution_count": 7,
   "metadata": {},
   "outputs": [],
   "source": [
    "entities = data['entity']\n",
    "line_service_alerts = []\n",
    "station_facilities_alerts = []\n",
    "trip_based_alerts = []"
   ]
  },
  {
   "cell_type": "code",
   "execution_count": 8,
   "metadata": {},
   "outputs": [
    {
     "data": {
      "text/plain": [
       "1"
      ]
     },
     "execution_count": 8,
     "metadata": {},
     "output_type": "execute_result"
    }
   ],
   "source": [
    "for line_service_alert in entities:\n",
    "    alerts = line_service_alert['alert']['informedEntity']\n",
    "    keep_running = True\n",
    "    for alert in alerts:\n",
    "        if 'routeId' in alert and keep_running == True:\n",
    "            line_service_alerts.append(line_service_alert)\n",
    "            keep_running = False \n",
    "        else:\n",
    "            break  \n",
    "len(line_service_alerts)"
   ]
  },
  {
   "cell_type": "code",
   "execution_count": 9,
   "metadata": {},
   "outputs": [
    {
     "data": {
      "text/plain": [
       "7"
      ]
     },
     "execution_count": 9,
     "metadata": {},
     "output_type": "execute_result"
    }
   ],
   "source": [
    "for station_facilities_alert in entities:\n",
    "    alerts = station_facilities_alert['alert']['informedEntity']\n",
    "    keep_running = True\n",
    "    for alert in alerts:\n",
    "        if 'stopId' in alert and keep_running == True:\n",
    "            station_facilities_alerts.append(station_facilities_alert)\n",
    "            keep_running = False\n",
    "            \n",
    "len(station_facilities_alerts)"
   ]
  },
  {
   "cell_type": "code",
   "execution_count": 10,
   "metadata": {},
   "outputs": [
    {
     "data": {
      "text/plain": [
       "3"
      ]
     },
     "execution_count": 10,
     "metadata": {},
     "output_type": "execute_result"
    }
   ],
   "source": [
    "for trip_based_alert in entities:\n",
    "    alerts = trip_based_alert['alert']['informedEntity']\n",
    "    keep_running = True\n",
    "    for alert in alerts:\n",
    "        if 'trip' in alert and keep_running == True:\n",
    "            trip_based_alerts.append(trip_based_alert)\n",
    "            keep_running = False\n",
    "            \n",
    "len(trip_based_alerts)"
   ]
  },
  {
   "cell_type": "code",
   "execution_count": 26,
   "metadata": {},
   "outputs": [
    {
     "data": {
      "text/plain": [
       "{'id': '3',\n",
       " 'alert': {'informedEntity': [{'agencyId': 'SydneyTrains',\n",
       "    'trip': {'tripId': '656X.1649.102.194.T.8.61080458'}},\n",
       "   {'agencyId': 'SydneyTrains',\n",
       "    'trip': {'tripId': '650W.1649.102.66.T.8.61081068'}},\n",
       "   {'agencyId': 'SydneyTrains',\n",
       "    'trip': {'tripId': '675B.1649.102.194.T.8.61081055'}},\n",
       "   {'agencyId': 'SydneyTrains',\n",
       "    'trip': {'tripId': '657X.1649.102.194.T.8.61079580'}},\n",
       "   {'agencyId': 'SydneyTrains',\n",
       "    'trip': {'tripId': '657T.1649.102.194.T.8.61079579'}},\n",
       "   {'agencyId': 'SydneyTrains',\n",
       "    'trip': {'tripId': '655X.1649.102.194.T.8.61079890'}},\n",
       "   {'agencyId': 'SydneyTrains',\n",
       "    'trip': {'tripId': '676B.1649.102.194.T.8.61081709'}},\n",
       "   {'agencyId': 'SydneyTrains',\n",
       "    'trip': {'tripId': '675F.1649.102.194.T.8.61081056'}},\n",
       "   {'agencyId': 'SydneyTrains',\n",
       "    'trip': {'tripId': '677B.1649.102.194.T.8.61080448'}},\n",
       "   {'agencyId': 'SydneyTrains',\n",
       "    'trip': {'tripId': '658X.1649.102.196.T.8.62139651'}},\n",
       "   {'agencyId': 'SydneyTrains',\n",
       "    'trip': {'tripId': '677F.1649.102.194.T.8.61079012'}},\n",
       "   {'agencyId': 'SydneyTrains',\n",
       "    'trip': {'tripId': '683B.1649.102.64.T.8.61081248'}},\n",
       "   {'agencyId': 'SydneyTrains',\n",
       "    'trip': {'tripId': '670E.1649.102.66.T.8.61602604'}},\n",
       "   {'agencyId': 'SydneyTrains',\n",
       "    'trip': {'tripId': '663T.1649.102.64.T.8.61081494'}},\n",
       "   {'agencyId': 'SydneyTrains',\n",
       "    'trip': {'tripId': '663X.1649.102.64.T.8.61081247'}},\n",
       "   {'agencyId': 'SydneyTrains',\n",
       "    'trip': {'tripId': '670A.1649.102.66.T.8.61080109'}},\n",
       "   {'agencyId': 'SydneyTrains',\n",
       "    'trip': {'tripId': '658T.1649.102.196.T.8.61081225'}},\n",
       "   {'agencyId': 'SydneyTrains',\n",
       "    'trip': {'tripId': '678B.1649.102.196.T.8.61080786'}}],\n",
       "  'url': {'translation': [{'text': 'https://transportnsw.info/alerts#/train',\n",
       "     'language': 'en'}]},\n",
       "  'headerText': {'translation': [{'text': 'Added Stops', 'language': 'en'}]},\n",
       "  'descriptionText': {'translation': [{'text': 'Tempe due to planned trackwork this long weekend on the ESR & Illawarra Line.',\n",
       "     'language': 'en'}]}}}"
      ]
     },
     "execution_count": 26,
     "metadata": {},
     "output_type": "execute_result"
    }
   ],
   "source": [
    "trip_based_alerts[0]"
   ]
  },
  {
   "cell_type": "code",
   "execution_count": 27,
   "metadata": {},
   "outputs": [
    {
     "data": {
      "text/plain": [
       "{'id': '23',\n",
       " 'alert': {'informedEntity': [{'agencyId': 'SydneyTrains',\n",
       "    'stopId': '200030'}],\n",
       "  'cause': 'OTHER_CAUSE',\n",
       "  'effect': 'UNKNOWN_EFFECT',\n",
       "  'url': {'translation': [{'text': 'https://transportnsw.info/alerts#/train',\n",
       "     'language': 'en'}]},\n",
       "  'headerText': {'translation': [{'text': 'Lift Availability - Martin Place',\n",
       "     'language': 'en'}]},\n",
       "  'descriptionText': {'translation': [{'text': 'The lift between platforms 1 and 2 and the concourse is temporarily out of service. If you require assistance, please call staff at Martin Place Station on 9379 4858.',\n",
       "     'language': 'en'}]}}}"
      ]
     },
     "execution_count": 27,
     "metadata": {},
     "output_type": "execute_result"
    }
   ],
   "source": [
    "station_facilities_alerts[0]"
   ]
  },
  {
   "cell_type": "code",
   "execution_count": 28,
   "metadata": {},
   "outputs": [
    {
     "data": {
      "text/plain": [
       "{'id': '1',\n",
       " 'alert': {'informedEntity': [{'agencyId': 'NSWTrains', 'routeId': 'BMT_1'},\n",
       "   {'agencyId': 'NSWTrains', 'routeId': 'BMT_2'}],\n",
       "  'url': {'translation': [{'text': 'https://transportnsw.info/alerts#/train',\n",
       "     'language': 'en'}]},\n",
       "  'headerText': {'translation': [{'text': 'Trackwork - Blue Mountains Line',\n",
       "     'language': 'en'}]},\n",
       "  'descriptionText': {'translation': [{'text': 'Until further notice:\\n- Due to infrastructure damage caused by bushfires, buses continue to replace trains between Bathurst, Lithgow and Mount Victoria.\\n- Some trains continue to run between Bathurst and Lithgow, and between Bathurst and Central, to a changed timetable.\\n- Other trains may also be affected.\\n\\nPlease use transport apps or visit transportnsw.info for details.',\n",
       "     'language': 'en'}]}}}"
      ]
     },
     "execution_count": 28,
     "metadata": {},
     "output_type": "execute_result"
    }
   ],
   "source": [
    "line_service_alerts[0]"
   ]
  },
  {
   "cell_type": "code",
   "execution_count": 22,
   "metadata": {
    "code_folding": []
   },
   "outputs": [],
   "source": [
    "station_facilities_alerts_agencyId = []\n",
    "station_facilities_alerts_stopId = []\n",
    "station_facilities_alerts_cause = []\n",
    "station_facilities_alerts_effect = []\n",
    "station_facilities_alerts_headerText = []\n",
    "station_facilities_alerts_descriptionText = []\n",
    "\n",
    "for entity in station_facilities_alerts:\n",
    "    station_facilities_alerts_agencyId.append(entity['alert']['informedEntity'][0]['agencyId'])\n",
    "    station_facilities_alerts_stopId.append(entity['alert']['informedEntity'][0]['stopId'])\n",
    "    station_facilities_alerts_cause.append(entity['alert']['cause'])\n",
    "    station_facilities_alerts_effect.append(entity['alert']['effect'])\n",
    "    station_facilities_alerts_headerText.append(entity['alert']['headerText']['translation'][0]['text'])\n",
    "    station_facilities_alerts_descriptionText.append(entity['alert']['descriptionText']['translation'][0]['text']) "
   ]
  },
  {
   "cell_type": "code",
   "execution_count": 23,
   "metadata": {},
   "outputs": [],
   "source": [
    "df_station = pd.DataFrame(columns = ['agencyId',\n",
    "                                     'stopId',\n",
    "                                     'cause',\n",
    "                                     'effect',\n",
    "                                     'headerText',\n",
    "                                     'descriptionText'])\n",
    "\n",
    "station_facilities_alerts_agencyId = pd.Series(station_facilities_alerts_agencyId)\n",
    "df_station['agencyId'] = station_facilities_alerts_agencyId\n",
    "\n",
    "station_facilities_alerts_stopId = pd.Series(station_facilities_alerts_stopId)\n",
    "df_station['stopId'] = station_facilities_alerts_stopId\n",
    "\n",
    "station_facilities_alerts_cause = pd.Series(station_facilities_alerts_cause)\n",
    "df_station['cause'] = station_facilities_alerts_cause\n",
    "\n",
    "station_facilities_alerts_effect = pd.Series(station_facilities_alerts_effect)\n",
    "df_station['effect'] = station_facilities_alerts_effect\n",
    "\n",
    "station_facilities_alerts_headerText = pd.Series(station_facilities_alerts_headerText)\n",
    "df_station['headerText'] = station_facilities_alerts_headerText\n",
    "\n",
    "station_facilities_alerts_descriptionText = pd.Series(station_facilities_alerts_descriptionText)\n",
    "df_station['descriptionText'] = station_facilities_alerts_descriptionText\n",
    "\n"
   ]
  },
  {
   "cell_type": "code",
   "execution_count": 29,
   "metadata": {},
   "outputs": [
    {
     "data": {
      "text/html": [
       "<div>\n",
       "<style scoped>\n",
       "    .dataframe tbody tr th:only-of-type {\n",
       "        vertical-align: middle;\n",
       "    }\n",
       "\n",
       "    .dataframe tbody tr th {\n",
       "        vertical-align: top;\n",
       "    }\n",
       "\n",
       "    .dataframe thead th {\n",
       "        text-align: right;\n",
       "    }\n",
       "</style>\n",
       "<table border=\"1\" class=\"dataframe\">\n",
       "  <thead>\n",
       "    <tr style=\"text-align: right;\">\n",
       "      <th></th>\n",
       "      <th>agencyId</th>\n",
       "      <th>stopId</th>\n",
       "      <th>cause</th>\n",
       "      <th>effect</th>\n",
       "      <th>headerText</th>\n",
       "      <th>descriptionText</th>\n",
       "    </tr>\n",
       "  </thead>\n",
       "  <tbody>\n",
       "    <tr>\n",
       "      <th>0</th>\n",
       "      <td>SydneyTrains</td>\n",
       "      <td>200030</td>\n",
       "      <td>OTHER_CAUSE</td>\n",
       "      <td>UNKNOWN_EFFECT</td>\n",
       "      <td>Lift Availability - Martin Place</td>\n",
       "      <td>The lift between platforms 1 and 2 and the con...</td>\n",
       "    </tr>\n",
       "    <tr>\n",
       "      <th>1</th>\n",
       "      <td>SydneyTrains</td>\n",
       "      <td>200030</td>\n",
       "      <td>OTHER_CAUSE</td>\n",
       "      <td>UNKNOWN_EFFECT</td>\n",
       "      <td>Lift Availability - Martin Place</td>\n",
       "      <td>The lift between the station concourse, galler...</td>\n",
       "    </tr>\n",
       "    <tr>\n",
       "      <th>2</th>\n",
       "      <td>SydneyTrains</td>\n",
       "      <td>257610</td>\n",
       "      <td>OTHER_CAUSE</td>\n",
       "      <td>UNKNOWN_EFFECT</td>\n",
       "      <td>Station Update - Bowral</td>\n",
       "      <td>Drop-off zones on Kirkham Road alongside platf...</td>\n",
       "    </tr>\n",
       "    <tr>\n",
       "      <th>3</th>\n",
       "      <td>SydneyTrains</td>\n",
       "      <td>200060</td>\n",
       "      <td>OTHER_CAUSE</td>\n",
       "      <td>UNKNOWN_EFFECT</td>\n",
       "      <td>Station Update - Central</td>\n",
       "      <td>The accessible ramp from South Concourse to No...</td>\n",
       "    </tr>\n",
       "    <tr>\n",
       "      <th>4</th>\n",
       "      <td>SydneyTrains</td>\n",
       "      <td>200050</td>\n",
       "      <td>OTHER_CAUSE</td>\n",
       "      <td>UNKNOWN_EFFECT</td>\n",
       "      <td>Station Update - St James</td>\n",
       "      <td>The public toilets at St James Station are clo...</td>\n",
       "    </tr>\n",
       "  </tbody>\n",
       "</table>\n",
       "</div>"
      ],
      "text/plain": [
       "       agencyId  stopId        cause          effect  \\\n",
       "0  SydneyTrains  200030  OTHER_CAUSE  UNKNOWN_EFFECT   \n",
       "1  SydneyTrains  200030  OTHER_CAUSE  UNKNOWN_EFFECT   \n",
       "2  SydneyTrains  257610  OTHER_CAUSE  UNKNOWN_EFFECT   \n",
       "3  SydneyTrains  200060  OTHER_CAUSE  UNKNOWN_EFFECT   \n",
       "4  SydneyTrains  200050  OTHER_CAUSE  UNKNOWN_EFFECT   \n",
       "\n",
       "                         headerText  \\\n",
       "0  Lift Availability - Martin Place   \n",
       "1  Lift Availability - Martin Place   \n",
       "2           Station Update - Bowral   \n",
       "3          Station Update - Central   \n",
       "4         Station Update - St James   \n",
       "\n",
       "                                     descriptionText  \n",
       "0  The lift between platforms 1 and 2 and the con...  \n",
       "1  The lift between the station concourse, galler...  \n",
       "2  Drop-off zones on Kirkham Road alongside platf...  \n",
       "3  The accessible ramp from South Concourse to No...  \n",
       "4  The public toilets at St James Station are clo...  "
      ]
     },
     "execution_count": 29,
     "metadata": {},
     "output_type": "execute_result"
    }
   ],
   "source": [
    "df_station.head()"
   ]
  },
  {
   "cell_type": "code",
   "execution_count": 25,
   "metadata": {},
   "outputs": [],
   "source": [
    "hdr = False if os.path.isfile('station_facilities_alerts_' + file_date + '.csv') else True\n",
    "df_station.to_csv('station_facilities_alerts_' + file_date + '.csv', mode='a', header=hdr, index=False)\n",
    "\n"
   ]
  },
  {
   "cell_type": "code",
   "execution_count": 40,
   "metadata": {},
   "outputs": [],
   "source": [
    "line_service_alerts_agencyId = []\n",
    "line_service_alerts_routeId = []\n",
    "line_service_alerts_headerText = []\n",
    "line_service_alerts_descriptionText = []\n",
    "for entity in line_service_alerts:\n",
    "    for sub_entity in entity['alert']['informedEntity']:\n",
    "        line_service_alerts_agencyId.append(sub_entity['agencyId'])      \n",
    "        line_service_alerts_routeId.append(sub_entity['routeId'])\n",
    "        line_service_alerts_headerText.append(entity['alert']['headerText']['translation'][0]['text'])\n",
    "        line_service_alerts_descriptionText.append(entity['alert']['descriptionText']['translation'][0]['text'])\n",
    "        \n",
    "        \n",
    "        "
   ]
  },
  {
   "cell_type": "code",
   "execution_count": 42,
   "metadata": {},
   "outputs": [],
   "source": [
    "df_line = pd.DataFrame(columns = ['agencyId',\n",
    "                                  'routeId',\n",
    "                                  'headerText',\n",
    "                                  'descriptionText'])\n",
    "\n",
    "line_service_alerts_agencyId = pd.Series(line_service_alerts_agencyId)\n",
    "df_line['agencyId'] = line_service_alerts_agencyId\n",
    "\n",
    "line_service_alerts_routeId = pd.Series(line_service_alerts_routeId)\n",
    "df_line['routeId'] = line_service_alerts_routeId\n",
    "\n",
    "line_service_alerts_headerText = pd.Series(line_service_alerts_headerText)\n",
    "df_line['headerText'] = line_service_alerts_headerText\n",
    "\n",
    "line_service_alerts_descriptionText = pd.Series(line_service_alerts_descriptionText)\n",
    "df_line['descriptionText'] = line_service_alerts_descriptionText"
   ]
  },
  {
   "cell_type": "code",
   "execution_count": 43,
   "metadata": {},
   "outputs": [],
   "source": [
    "hdr = False if os.path.isfile('line_service_alerts_' + file_date + '.csv') else True\n",
    "df_line.to_csv('line_service_alerts_' + file_date + '.csv', mode='a', header=hdr, index=False)\n",
    "\n"
   ]
  },
  {
   "cell_type": "code",
   "execution_count": 44,
   "metadata": {},
   "outputs": [
    {
     "data": {
      "text/plain": [
       "{'id': '3',\n",
       " 'alert': {'informedEntity': [{'agencyId': 'SydneyTrains',\n",
       "    'trip': {'tripId': '656X.1649.102.194.T.8.61080458'}},\n",
       "   {'agencyId': 'SydneyTrains',\n",
       "    'trip': {'tripId': '650W.1649.102.66.T.8.61081068'}},\n",
       "   {'agencyId': 'SydneyTrains',\n",
       "    'trip': {'tripId': '675B.1649.102.194.T.8.61081055'}},\n",
       "   {'agencyId': 'SydneyTrains',\n",
       "    'trip': {'tripId': '657X.1649.102.194.T.8.61079580'}},\n",
       "   {'agencyId': 'SydneyTrains',\n",
       "    'trip': {'tripId': '657T.1649.102.194.T.8.61079579'}},\n",
       "   {'agencyId': 'SydneyTrains',\n",
       "    'trip': {'tripId': '655X.1649.102.194.T.8.61079890'}},\n",
       "   {'agencyId': 'SydneyTrains',\n",
       "    'trip': {'tripId': '676B.1649.102.194.T.8.61081709'}},\n",
       "   {'agencyId': 'SydneyTrains',\n",
       "    'trip': {'tripId': '675F.1649.102.194.T.8.61081056'}},\n",
       "   {'agencyId': 'SydneyTrains',\n",
       "    'trip': {'tripId': '677B.1649.102.194.T.8.61080448'}},\n",
       "   {'agencyId': 'SydneyTrains',\n",
       "    'trip': {'tripId': '658X.1649.102.196.T.8.62139651'}},\n",
       "   {'agencyId': 'SydneyTrains',\n",
       "    'trip': {'tripId': '677F.1649.102.194.T.8.61079012'}},\n",
       "   {'agencyId': 'SydneyTrains',\n",
       "    'trip': {'tripId': '683B.1649.102.64.T.8.61081248'}},\n",
       "   {'agencyId': 'SydneyTrains',\n",
       "    'trip': {'tripId': '670E.1649.102.66.T.8.61602604'}},\n",
       "   {'agencyId': 'SydneyTrains',\n",
       "    'trip': {'tripId': '663T.1649.102.64.T.8.61081494'}},\n",
       "   {'agencyId': 'SydneyTrains',\n",
       "    'trip': {'tripId': '663X.1649.102.64.T.8.61081247'}},\n",
       "   {'agencyId': 'SydneyTrains',\n",
       "    'trip': {'tripId': '670A.1649.102.66.T.8.61080109'}},\n",
       "   {'agencyId': 'SydneyTrains',\n",
       "    'trip': {'tripId': '658T.1649.102.196.T.8.61081225'}},\n",
       "   {'agencyId': 'SydneyTrains',\n",
       "    'trip': {'tripId': '678B.1649.102.196.T.8.61080786'}}],\n",
       "  'url': {'translation': [{'text': 'https://transportnsw.info/alerts#/train',\n",
       "     'language': 'en'}]},\n",
       "  'headerText': {'translation': [{'text': 'Added Stops', 'language': 'en'}]},\n",
       "  'descriptionText': {'translation': [{'text': 'Tempe due to planned trackwork this long weekend on the ESR & Illawarra Line.',\n",
       "     'language': 'en'}]}}}"
      ]
     },
     "execution_count": 44,
     "metadata": {},
     "output_type": "execute_result"
    }
   ],
   "source": [
    "trip_based_alerts[0]"
   ]
  },
  {
   "cell_type": "code",
   "execution_count": 50,
   "metadata": {},
   "outputs": [],
   "source": [
    "trip_based_alerts_agencyId = []\n",
    "trip_based_alerts_tripId = []\n",
    "trip_based_alerts_headerText = []\n",
    "trip_based_alerts_descriptionText = []\n",
    "\n",
    "for entity in trip_based_alerts:\n",
    "    for sub_entity in entity['alert']['informedEntity']:\n",
    "        trip_based_alerts_agencyId.append(sub_entity['agencyId'])\n",
    "        trip_based_alerts_tripId.append(sub_entity['trip']['tripId'])\n",
    "        trip_based_alerts_headerText.append(entity['alert']['headerText']['translation'][0]['text'])\n",
    "        trip_based_alerts_descriptionText.append(entity['alert']['descriptionText']['translation'][0]['text'])"
   ]
  },
  {
   "cell_type": "code",
   "execution_count": 51,
   "metadata": {},
   "outputs": [],
   "source": [
    "df_trip = pd.DataFrame(columns = ['agencyId',\n",
    "                                  'tripId',\n",
    "                                  'headerText',\n",
    "                                  'descriptionText'])\n",
    "\n",
    "trip_based_alerts_agencyId = pd.Series(trip_based_alerts_agencyId)\n",
    "df_trip['agencyId'] = trip_based_alerts_agencyId\n",
    "\n",
    "\n",
    "trip_based_alerts_tripId = pd.Series(trip_based_alerts_tripId)\n",
    "df_trip['tripId'] = trip_based_alerts_tripId\n",
    "\n",
    "trip_based_alerts_headerText = pd.Series(trip_based_alerts_headerText)\n",
    "df_trip['headerText'] = trip_based_alerts_headerText\n",
    "\n",
    "trip_based_alerts_descriptionText = pd.Series(trip_based_alerts_descriptionText)\n",
    "df_trip['descriptionText'] = trip_based_alerts_descriptionText"
   ]
  },
  {
   "cell_type": "code",
   "execution_count": 52,
   "metadata": {},
   "outputs": [],
   "source": [
    "hdr = False if os.path.isfile('trip_based_alerts_' + file_date + '.csv') else True\n",
    "df_trip.to_csv('trip_based_alerts_' + file_date + '.csv', mode='a', header=hdr, index=False)\n",
    "\n"
   ]
  },
  {
   "cell_type": "code",
   "execution_count": null,
   "metadata": {},
   "outputs": [],
   "source": []
  }
 ],
 "metadata": {
  "kernelspec": {
   "display_name": "Python 3",
   "language": "python",
   "name": "python3"
  },
  "language_info": {
   "codemirror_mode": {
    "name": "ipython",
    "version": 3
   },
   "file_extension": ".py",
   "mimetype": "text/x-python",
   "name": "python",
   "nbconvert_exporter": "python",
   "pygments_lexer": "ipython3",
   "version": "3.8.1"
  },
  "toc": {
   "base_numbering": 1,
   "nav_menu": {},
   "number_sections": true,
   "sideBar": true,
   "skip_h1_title": false,
   "title_cell": "Table of Contents",
   "title_sidebar": "Contents",
   "toc_cell": false,
   "toc_position": {},
   "toc_section_display": true,
   "toc_window_display": false
  }
 },
 "nbformat": 4,
 "nbformat_minor": 2
}
