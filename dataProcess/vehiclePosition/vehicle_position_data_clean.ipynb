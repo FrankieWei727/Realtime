{
 "cells": [
  {
   "cell_type": "code",
   "execution_count": 1,
   "metadata": {},
   "outputs": [],
   "source": [
    "import json\n",
    "import os\n",
    "import pandas as pd \n",
    "import numpy as np\n",
    "from datetime import date"
   ]
  },
  {
   "cell_type": "code",
   "execution_count": 2,
   "metadata": {},
   "outputs": [],
   "source": [
    "pd.set_option('display.max_columns', None)"
   ]
  },
  {
   "cell_type": "code",
   "execution_count": 3,
   "metadata": {},
   "outputs": [],
   "source": [
    "file_date = date.today().strftime(\"%Y%m%d\")"
   ]
  },
  {
   "cell_type": "code",
   "execution_count": 4,
   "metadata": {},
   "outputs": [],
   "source": [
    "with open(\"vehicle_position.json\", \"r\") as read_file:\n",
    "    data = json.load(read_file)"
   ]
  },
  {
   "cell_type": "code",
   "execution_count": 18,
   "metadata": {
    "code_folding": []
   },
   "outputs": [
    {
     "data": {
      "text/plain": [
       "{'id': '1',\n",
       " 'vehicle': {'trip': {'tripId': '1--F.1649.102.198.B.8.61079255',\n",
       "   'scheduleRelationship': 'SCHEDULED',\n",
       "   'routeId': 'BNK_2a'},\n",
       "  'position': {'latitude': -33.90696716308594, 'longitude': 151.1811981201172},\n",
       "  'timestamp': '1586555267',\n",
       "  'congestionLevel': 'UNKNOWN_CONGESTION_LEVEL',\n",
       "  'stopId': 'Sydenham.SY564BER',\n",
       "  'vehicle': {'id': '6926.6488.5978.1618.3727.1996.5099.4550',\n",
       "   'label': '07:14 Birrong Station to Central Station '}}}"
      ]
     },
     "execution_count": 18,
     "metadata": {},
     "output_type": "execute_result"
    }
   ],
   "source": [
    "entities = data['entity']\n",
    "entities[0]"
   ]
  },
  {
   "cell_type": "code",
   "execution_count": 19,
   "metadata": {},
   "outputs": [
    {
     "name": "stdout",
     "output_type": "stream",
     "text": [
      "yes\n"
     ]
    }
   ],
   "source": [
    "entities[0]['vehicle']['vehicle']['label']\n",
    "if 'label' in entities[0]['vehicle']['vehicle']:\n",
    "    print('yes')"
   ]
  },
  {
   "cell_type": "code",
   "execution_count": 20,
   "metadata": {},
   "outputs": [
    {
     "name": "stdout",
     "output_type": "stream",
     "text": [
      "yes\n"
     ]
    }
   ],
   "source": [
    "entities[0]['vehicle']['trip']\n",
    "if 'routeId' in entities[0]['vehicle']['trip']:\n",
    "    print('yes')"
   ]
  },
  {
   "cell_type": "code",
   "execution_count": 21,
   "metadata": {},
   "outputs": [],
   "source": [
    "vehicle = []\n",
    "tripId = []\n",
    "stopId = []\n",
    "scheduleRelationship = []\n",
    "routeId = []\n",
    "latitude= []\n",
    "longitude = []\n",
    "timestamp = []\n",
    "congestionLevel = []\n",
    "label = []\n",
    "for entity in entities:\n",
    "    vehicle.append(entity['vehicle']['vehicle']['id'])\n",
    "    tripId.append(entity['vehicle']['trip']['tripId'])\n",
    "    stopId.append(entity['vehicle']['stopId'])\n",
    "    if 'routeId' in entity['vehicle']['trip']:\n",
    "        routeId.append(entity['vehicle']['trip']['routeId'])\n",
    "    else:\n",
    "        routeId.append(\"\")\n",
    "    scheduleRelationship.append(entity['vehicle']['trip']['scheduleRelationship'])\n",
    "    latitude.append(entity['vehicle']['position']['latitude'])\n",
    "    longitude.append(entity['vehicle']['position']['longitude'])\n",
    "    timestamp.append(entity['vehicle']['timestamp'])\n",
    "    congestionLevel.append(entity['vehicle']['congestionLevel'])\n",
    "    if 'label' in entity['vehicle']['vehicle']:\n",
    "        label.append(entity['vehicle']['vehicle']['label'])\n",
    "    else:\n",
    "        label.append(\"\")\n",
    "# df[0]['vehicle']['vehicle']['label']"
   ]
  },
  {
   "cell_type": "code",
   "execution_count": 22,
   "metadata": {},
   "outputs": [],
   "source": [
    "df = pd.DataFrame(columns = ['timestamp','vehicle','tripId','stopId','scheduleRelationship','routeId',\n",
    "                            'latitude','longitude','congestionLevel','label'])\n",
    "\n",
    "vehicle = pd.Series(vehicle)\n",
    "df['vehicle'] = vehicle\n",
    "\n",
    "tripId = pd.Series(tripId)\n",
    "df['tripId'] = tripId\n",
    "\n",
    "stopId = pd.Series(stopId)\n",
    "df['stopId'] = stopId\n",
    "\n",
    "scheduleRelationship = pd.Series(scheduleRelationship)\n",
    "df['scheduleRelationship'] = scheduleRelationship\n",
    "\n",
    "routeId = pd.Series(routeId)\n",
    "df['routeId'] = routeId\n",
    "\n",
    "latitude = pd.Series(latitude)\n",
    "df['latitude'] = latitude\n",
    "\n",
    "longitude = pd.Series(longitude)\n",
    "df['longitude'] = longitude\n",
    "\n",
    "timestamp = pd.Series(timestamp)\n",
    "df['timestamp'] = timestamp\n",
    "\n",
    "congestionLevel = pd.Series(congestionLevel)\n",
    "df['congestionLevel'] = congestionLevel\n",
    "\n",
    "label = pd.Series(label)\n",
    "df['label'] = label\n",
    "\n"
   ]
  },
  {
   "cell_type": "code",
   "execution_count": 23,
   "metadata": {},
   "outputs": [],
   "source": [
    "df['timestamp'] = pd.to_datetime(df['timestamp'], unit='s')\n",
    "df.timestamp = df.timestamp + pd.Timedelta('10:00:00')\n",
    "df.timestamp = df.timestamp.dt.strftime('%Y%m%d %H:%M:%S')"
   ]
  },
  {
   "cell_type": "code",
   "execution_count": 26,
   "metadata": {},
   "outputs": [],
   "source": [
    "hdr = False if os.path.isfile('vehicle_position_' + file_date + '.csv') else True\n",
    "df.to_csv('vehicle_position_' + file_date + '.csv', mode='a', header=hdr, index=False)\n",
    "    \n"
   ]
  },
  {
   "cell_type": "code",
   "execution_count": null,
   "metadata": {},
   "outputs": [],
   "source": []
  }
 ],
 "metadata": {
  "kernelspec": {
   "display_name": "Python 3",
   "language": "python",
   "name": "python3"
  },
  "language_info": {
   "codemirror_mode": {
    "name": "ipython",
    "version": 3
   },
   "file_extension": ".py",
   "mimetype": "text/x-python",
   "name": "python",
   "nbconvert_exporter": "python",
   "pygments_lexer": "ipython3",
   "version": "3.8.1"
  },
  "toc": {
   "base_numbering": 1,
   "nav_menu": {},
   "number_sections": true,
   "sideBar": true,
   "skip_h1_title": false,
   "title_cell": "Table of Contents",
   "title_sidebar": "Contents",
   "toc_cell": false,
   "toc_position": {},
   "toc_section_display": true,
   "toc_window_display": false
  }
 },
 "nbformat": 4,
 "nbformat_minor": 2
}
