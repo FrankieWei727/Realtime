{
 "cells": [
  {
   "cell_type": "code",
   "execution_count": 1,
   "metadata": {},
   "outputs": [],
   "source": [
    "import json\n",
    "import os\n",
    "import pandas as pd \n",
    "import numpy as np\n",
    "from datetime import date"
   ]
  },
  {
   "cell_type": "code",
   "execution_count": 2,
   "metadata": {},
   "outputs": [],
   "source": [
    "pd.set_option('display.max_columns', None)"
   ]
  },
  {
   "cell_type": "code",
   "execution_count": 3,
   "metadata": {},
   "outputs": [],
   "source": [
    "file_date = date.today().strftime(\"%Y%m%d\")"
   ]
  },
  {
   "cell_type": "code",
   "execution_count": 4,
   "metadata": {},
   "outputs": [],
   "source": [
    "with open(\"vehicle_position.json\", \"r\") as read_file:\n",
    "    data = json.load(read_file)"
   ]
  },
  {
   "cell_type": "code",
   "execution_count": 5,
   "metadata": {
    "code_folding": []
   },
   "outputs": [
    {
     "data": {
      "text/plain": [
       "{'id': '1',\n",
       " 'vehicle': {'trip': {'tripId': '1--L.1648.101.8.B.8.61298061',\n",
       "   'scheduleRelationship': 'SCHEDULED',\n",
       "   'routeId': 'IWL_2d'},\n",
       "  'position': {'latitude': -33.86420440673828,\n",
       "   'longitude': 151.04629516601562},\n",
       "  'timestamp': '1586842838',\n",
       "  'congestionLevel': 'UNKNOWN_CONGESTION_LEVEL',\n",
       "  'stopId': 'Lidcombe.Lidcombe 3 Loc',\n",
       "  'vehicle': {'id': '2257.4727.6737.6076.1001.6798.1029.9418',\n",
       "   'label': '14:54 Leppington Station to Central Station '}}}"
      ]
     },
     "execution_count": 5,
     "metadata": {},
     "output_type": "execute_result"
    }
   ],
   "source": [
    "entities = data['entity']\n",
    "entities[0]"
   ]
  },
  {
   "cell_type": "code",
   "execution_count": 6,
   "metadata": {},
   "outputs": [
    {
     "name": "stdout",
     "output_type": "stream",
     "text": [
      "yes\n"
     ]
    }
   ],
   "source": [
    "entities[0]['vehicle']['vehicle']['label']\n",
    "if 'label' in entities[0]['vehicle']['vehicle']:\n",
    "    print('yes')"
   ]
  },
  {
   "cell_type": "code",
   "execution_count": 7,
   "metadata": {},
   "outputs": [
    {
     "name": "stdout",
     "output_type": "stream",
     "text": [
      "yes\n"
     ]
    }
   ],
   "source": [
    "entities[0]['vehicle']['trip']\n",
    "if 'routeId' in entities[0]['vehicle']['trip']:\n",
    "    print('yes')"
   ]
  },
  {
   "cell_type": "code",
   "execution_count": 8,
   "metadata": {},
   "outputs": [],
   "source": [
    "vehicle = []\n",
    "tripId = []\n",
    "stopId = []\n",
    "scheduleRelationship = []\n",
    "routeId = []\n",
    "latitude= []\n",
    "longitude = []\n",
    "timestamp = []\n",
    "congestionLevel = []\n",
    "label = []\n",
    "for entity in entities:\n",
    "    if 'id' in entity['vehicle']['vehicle']:\n",
    "        vehicle.append(entity['vehicle']['vehicle']['id'])\n",
    "    else:\n",
    "        vehicle.append(\"\")\n",
    "    tripId.append(entity['vehicle']['trip']['tripId'])\n",
    "    stopId.append(entity['vehicle']['stopId'])\n",
    "    if 'routeId' in entity['vehicle']['trip']:\n",
    "        routeId.append(entity['vehicle']['trip']['routeId'])\n",
    "    else:\n",
    "        routeId.append(\"\")\n",
    "    scheduleRelationship.append(entity['vehicle']['trip']['scheduleRelationship'])\n",
    "    latitude.append(entity['vehicle']['position']['latitude'])\n",
    "    longitude.append(entity['vehicle']['position']['longitude'])\n",
    "    timestamp.append(entity['vehicle']['timestamp'])\n",
    "    congestionLevel.append(entity['vehicle']['congestionLevel'])\n",
    "    if 'label' in entity['vehicle']['vehicle']:\n",
    "        label.append(entity['vehicle']['vehicle']['label'])\n",
    "    else:\n",
    "        label.append(\"\")"
   ]
  },
  {
   "cell_type": "code",
   "execution_count": 9,
   "metadata": {},
   "outputs": [],
   "source": [
    "df = pd.DataFrame(columns = ['date', 'time', 'timestamp','vehicle','tripId','stopId','scheduleRelationship','routeId',\n",
    "                            'latitude','longitude','congestionLevel','label'])\n",
    "\n",
    "df['vehicle'] = pd.Series(vehicle)\n",
    "df['tripId'] = pd.Series(tripId)\n",
    "df['stopId'] = pd.Series(stopId)\n",
    "df['scheduleRelationship'] = pd.Series(scheduleRelationship)\n",
    "df['routeId'] = pd.Series(routeId)\n",
    "df['latitude'] = pd.Series(latitude)\n",
    "df['longitude'] = pd.Series(longitude)\n",
    "df['timestamp'] = pd.Series(timestamp)\n",
    "df['congestionLevel'] = pd.Series(congestionLevel)\n",
    "df['label'] = pd.Series(label)"
   ]
  },
  {
   "cell_type": "code",
   "execution_count": 10,
   "metadata": {},
   "outputs": [],
   "source": [
    "df['timestamp'] = pd.to_datetime(df['timestamp'], unit='s')\n",
    "df.timestamp = df.timestamp + pd.Timedelta('10:00:00')\n",
    "df['date'] = pd.to_datetime(df['timestamp']).dt.date\n",
    "df['time'] = pd.to_datetime(df['timestamp']).dt.time"
   ]
  },
  {
   "cell_type": "code",
   "execution_count": 11,
   "metadata": {},
   "outputs": [],
   "source": [
    "df.drop('timestamp', axis=1, inplace=True)"
   ]
  },
  {
   "cell_type": "code",
   "execution_count": 12,
   "metadata": {
    "code_folding": []
   },
   "outputs": [],
   "source": [
    "# Drop the rows of Nsw Trains\n",
    "df = df[~(df[\"routeId\"].isin(['BMT_1', 'BMT_2', 'CCN_1a', 'CCN_1b', 'CCN_1c',\n",
    "                               'CCN_2a', 'CCN_2b', 'CTY_NC1', 'CTY_NC1a',\n",
    "                               'CTY_NC2', 'CTY_NW1a', 'CTY_NW1b', 'CTY_NW1c',\n",
    "                               'CTY_NW1d', 'CTY_NW2a', 'CTY_NW2b', 'CTY_S1a',\n",
    "                               'CTY_S1b', 'CTY_S1c', 'CTY_S1d', 'CTY_S1e',\n",
    "                               'CTY_S1f', 'CTY_S1g', 'CTY_S1h', 'CTY_S1i',\n",
    "                               'CTY_S2a', 'CTY_S2b', 'CTY_S2c', 'CTY_S2d',\n",
    "                               'CTY_S2e', 'CTY_S2f', 'CTY_S2g', 'CTY_S2h',\n",
    "                               'CTY_S2i', 'CTY_W1a', 'CTY_W1b', 'CTY_W2a',\n",
    "                               'CTY_W2b', 'HUN_1a', 'HUN_1b', 'HUN_2a',\n",
    "                               'HUN_2b', 'SCO_1a', 'SCO_1b', 'SCO_2a',\n",
    "                               'SCO_2b', 'SHL_1a', 'SHL_1b', 'SHL_1c',\n",
    "                               'SHL_1d', 'SHL_1e', 'SHL_2a', 'SHL_2b', 'SHL_2c',\n",
    "                               'SHL_2d', 'SHL_2e', 'RTTA_DEF', 'RTTA_REV']))]"
   ]
  },
  {
   "cell_type": "code",
   "execution_count": 13,
   "metadata": {},
   "outputs": [],
   "source": [
    "df = df[~df.tripId.str.contains(\"NonTimetabled\")]"
   ]
  },
  {
   "cell_type": "code",
   "execution_count": 14,
   "metadata": {},
   "outputs": [],
   "source": [
    "hdr = False if os.path.isfile('vehicle_position_' + file_date + '.csv') else True\n",
    "df.to_csv('vehicle_position_' + file_date + '.csv', mode='a', header=hdr, index=False)"
   ]
  },
  {
   "cell_type": "code",
   "execution_count": null,
   "metadata": {},
   "outputs": [],
   "source": []
  }
 ],
 "metadata": {
  "kernelspec": {
   "display_name": "Python 3",
   "language": "python",
   "name": "python3"
  },
  "language_info": {
   "codemirror_mode": {
    "name": "ipython",
    "version": 3
   },
   "file_extension": ".py",
   "mimetype": "text/x-python",
   "name": "python",
   "nbconvert_exporter": "python",
   "pygments_lexer": "ipython3",
   "version": "3.8.2"
  },
  "toc": {
   "base_numbering": 1,
   "nav_menu": {},
   "number_sections": true,
   "sideBar": true,
   "skip_h1_title": false,
   "title_cell": "Table of Contents",
   "title_sidebar": "Contents",
   "toc_cell": false,
   "toc_position": {},
   "toc_section_display": true,
   "toc_window_display": false
  }
 },
 "nbformat": 4,
 "nbformat_minor": 2
}
